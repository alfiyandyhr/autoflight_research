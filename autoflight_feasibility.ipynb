{
 "cells": [
  {
   "cell_type": "markdown",
   "id": "f8f592b5",
   "metadata": {},
   "source": [
    "# AutoFlight Prosperity I - Mission Feasibility\n",
    "\n",
    "Chinese air taxi startup Autoflight (https://www.autoflight.com/) announces what it claims is the world’s longest eVTOL flight to date. Its electric flying cab, ‘Prosperity I’, allegedly covered a distance of 250 kilometres without stopping to charge. The flying taxi is scheduled for certification in 2025. <br>\n",
    "\n",
    "The mission was recorded in the following youtube video: <br>\n",
    "https://www.youtube.com/watch?v=2Xf1_lTcAN0"
   ]
  },
  {
   "cell_type": "code",
   "execution_count": 6,
   "id": "72f1c53b",
   "metadata": {},
   "outputs": [],
   "source": [
    "import numpy as np\n",
    "import matplotlib.pyplot as plt\n",
    "import plotly.express as px\n",
    "import plotly.graph_objects as go\n",
    "from datetime import datetime as datetime"
   ]
  },
  {
   "cell_type": "code",
   "execution_count": 7,
   "id": "52f31563",
   "metadata": {},
   "outputs": [],
   "source": [
    "class mission_segment():\n",
    "    def __init__(self, name, t1, t2, dist, alt):\n",
    "        \"\"\"\n",
    "        name = segment name\n",
    "        t1 = start time (datetime object)\n",
    "        t2 = end time (datetime object)\n",
    "        dist = distance list ([start,end]) in km\n",
    "        alt = altitude list ([start,end]) in m\n",
    "        \"\"\"\n",
    "        self.name = name\n",
    "        self.t1 = t1\n",
    "        self.t2 = t2\n",
    "        self.dt = (t2 - t1).total_seconds()\n",
    "        self.dist = dist\n",
    "        self.alt = alt\n",
    "        self._calc_info()\n",
    "    def _calc_info(self):\n",
    "        if self.name == 'Takeoff':\n",
    "            # average vertical speed (m/s)\n",
    "            self.vy = (self.alt[1]-self.alt[0])/self.dt\n",
    "        elif self.name == 'Forward Transition':\n",
    "            # horizontal acceleration (m/s2) (manually input v_cruise=44)\n",
    "            v_cruise = 44\n",
    "            self.ax = (v_cruise)/self.dt\n",
    "        elif self.name == 'Climb':\n",
    "            # average vertical speed (m/s)\n",
    "            self.vy = (self.alt[1]-self.alt[0])/self.dt\n",
    "        elif self.name == 'Fixed Wing Cruise':\n",
    "            # cruise speed (km/h)\n",
    "            self.vx = (self.dist[1]-self.dist[0])/(self.dt/3600)\n",
    "        elif self.name == 'Descend':\n",
    "            # average vertical speed (m/s)\n",
    "            self.vy = (self.alt[1]-self.alt[0])/self.dt\n",
    "        elif self.name == 'Backward Transition':\n",
    "            # horizontal acceleration (m/s2) (manually input v_cruise=44)\n",
    "            v_cruise = 44\n",
    "            self.ax = (-v_cruise)/self.dt\n",
    "        elif self.name == 'Landing':\n",
    "            # average vertical speed (m/s)\n",
    "            self.vy = (self.alt[1]-self.alt[0])/self.dt"
   ]
  },
  {
   "cell_type": "markdown",
   "id": "9abb3f01",
   "metadata": {},
   "source": [
    "#### From the above youtube video, the following data were noted."
   ]
  },
  {
   "cell_type": "code",
   "execution_count": 8,
   "id": "a23df4c1",
   "metadata": {},
   "outputs": [],
   "source": [
    "mission_segment_list = []\n",
    "\n",
    "mission_segment_list.append(mission_segment(name = 'Takeoff',\n",
    "                                            t1   = datetime(2023,2,23,0,0,0),\n",
    "                                            t2   = datetime(2023,2,23,0,0,40),\n",
    "                                            dist = [0.0, 0.0032],\n",
    "                                            alt  = [0.0, 80.0]))\n",
    "\n",
    "mission_segment_list.append(mission_segment(name = 'Forward Transition',\n",
    "                                            t1   = datetime(2023,2,23,0,0,40),\n",
    "                                            t2   = datetime(2023,2,23,0,1,0),\n",
    "                                            dist = [0.0032, 0.488],\n",
    "                                            alt  = [80.0, 80.0]))\n",
    "\n",
    "mission_segment_list.append(mission_segment(name = 'Climb',\n",
    "                                            t1   = datetime(2023,2,23,0,1,0),\n",
    "                                            t2   = datetime(2023,2,23,0,2,30),\n",
    "                                            dist = [0.488, 4.0],\n",
    "                                            alt  = [80.0, 120.0]))\n",
    "\n",
    "mission_segment_list.append(mission_segment(name = 'Fixed Wing Cruise',\n",
    "                                            t1   = datetime(2023,2,23,0,2,30),\n",
    "                                            t2   = datetime(2023,2,23,1,34,0),\n",
    "                                            dist = [4.0, 245.7],\n",
    "                                            alt  = [120.0, 120.0]))\n",
    "\n",
    "mission_segment_list.append(mission_segment(name = 'Descend',\n",
    "                                            t1   = datetime(2023,2,23,1,34,0),\n",
    "                                            t2   = datetime(2023,2,23,1,35,27),\n",
    "                                            dist = [245.7, 249.4],\n",
    "                                            alt  = [120.0, 80.0]))\n",
    "\n",
    "mission_segment_list.append(mission_segment(name = 'Backward Transition',\n",
    "                                            t1   = datetime(2023,2,23,1,35,38),\n",
    "                                            t2   = datetime(2023,2,23,1,36,13),\n",
    "                                            dist = [249.4, 250.2],\n",
    "                                            alt  = [80.0, 80.0]))\n",
    "\n",
    "mission_segment_list.append(mission_segment(name = 'Landing',\n",
    "                                            t1   = datetime(2023,2,23,1,36,13),\n",
    "                                            t2   = datetime(2023,2,23,1,37,13),\n",
    "                                            dist = [250.2, 250.3],\n",
    "                                            alt  = [80.0, 0.0]))"
   ]
  },
  {
   "cell_type": "markdown",
   "id": "baebf4a3",
   "metadata": {},
   "source": [
    "#### The above mission is visualized as follows."
   ]
  },
  {
   "cell_type": "code",
   "execution_count": 9,
   "id": "a6c88cf8",
   "metadata": {},
   "outputs": [
    {
     "data": {
      "application/vnd.plotly.v1+json": {
       "config": {
        "plotlyServerURL": "https://plot.ly"
       },
       "data": [
        {
         "hovertemplate": "<extra></extra>dist = %{x} km<br>alt   = %{y}.0 m",
         "line": {
          "color": "blue"
         },
         "mode": "lines+markers",
         "name": "Takeoff",
         "text": "Takeoff",
         "type": "scatter",
         "x": [
          0,
          0.0032
         ],
         "y": [
          0,
          80
         ]
        },
        {
         "hoverinfo": "none",
         "mode": "text",
         "text": "<b>Takeoff</b>",
         "type": "scatter",
         "x": [
          10.0016
         ],
         "y": [
          40
         ]
        },
        {
         "hovertemplate": "<extra></extra>dist = %{x} km<br>alt   = %{y}.0 m",
         "line": {
          "color": "blue"
         },
         "mode": "lines+markers",
         "name": "Forward Transition",
         "text": "Forward Transition",
         "type": "scatter",
         "x": [
          0.0032,
          0.488
         ],
         "y": [
          80,
          80
         ]
        },
        {
         "hoverinfo": "none",
         "mode": "text",
         "text": "<b>Forward Transition</b>",
         "type": "scatter",
         "x": [
          23.2456
         ],
         "y": [
          80
         ]
        },
        {
         "hovertemplate": "<extra></extra>dist = %{x} km<br>alt   = %{y}.0 m",
         "line": {
          "color": "blue"
         },
         "mode": "lines+markers",
         "name": "Climb",
         "text": "Climb",
         "type": "scatter",
         "x": [
          0.488,
          4
         ],
         "y": [
          80,
          120
         ]
        },
        {
         "hoverinfo": "none",
         "mode": "text",
         "text": "<b>Climb</b>",
         "type": "scatter",
         "x": [
          11.244
         ],
         "y": [
          100
         ]
        },
        {
         "hovertemplate": "<extra></extra>dist = %{x} km<br>alt   = %{y}.0 m",
         "line": {
          "color": "blue"
         },
         "mode": "lines+markers",
         "name": "Fixed Wing Cruise",
         "text": "Fixed Wing Cruise",
         "type": "scatter",
         "x": [
          4,
          245.7
         ],
         "y": [
          120,
          120
         ]
        },
        {
         "hoverinfo": "none",
         "mode": "text",
         "text": "<b>Fixed Wing Cruise</b>",
         "type": "scatter",
         "x": [
          124.85
         ],
         "y": [
          125
         ]
        },
        {
         "hovertemplate": "<extra></extra>dist = %{x} km<br>alt   = %{y}.0 m",
         "line": {
          "color": "blue"
         },
         "mode": "lines+markers",
         "name": "Descend",
         "text": "Descend",
         "type": "scatter",
         "x": [
          245.7,
          249.4
         ],
         "y": [
          120,
          80
         ]
        },
        {
         "hoverinfo": "none",
         "mode": "text",
         "text": "<b>Descend</b>",
         "type": "scatter",
         "x": [
          234.55
         ],
         "y": [
          100
         ]
        },
        {
         "hovertemplate": "<extra></extra>dist = %{x} km<br>alt   = %{y}.0 m",
         "line": {
          "color": "blue"
         },
         "mode": "lines+markers",
         "name": "Backward Transition",
         "text": "Backward Transition",
         "type": "scatter",
         "x": [
          249.4,
          250.2
         ],
         "y": [
          80,
          80
         ]
        },
        {
         "hoverinfo": "none",
         "mode": "text",
         "text": "<b>Backward Transition</b>",
         "type": "scatter",
         "x": [
          225.8
         ],
         "y": [
          80
         ]
        },
        {
         "hovertemplate": "<extra></extra>dist = %{x} km<br>alt   = %{y}.0 m",
         "line": {
          "color": "blue"
         },
         "mode": "lines+markers",
         "name": "Landing",
         "text": "Landing",
         "type": "scatter",
         "x": [
          250.2,
          250.3
         ],
         "y": [
          80,
          0
         ]
        },
        {
         "hoverinfo": "none",
         "mode": "text",
         "text": "<b>Landing</b>",
         "type": "scatter",
         "x": [
          239.25
         ],
         "y": [
          40
         ]
        },
        {
         "hoverinfo": "none",
         "mode": "text",
         "text": "2.0 m/s<br>vertical climb<br>for 40.0 s",
         "type": "scatter",
         "x": [
          15.0016
         ],
         "y": [
          25
         ]
        },
        {
         "hoverinfo": "none",
         "mode": "text",
         "text": "2.20 m/s2<br>horizontal acceleration<br>for 20.0 s",
         "type": "scatter",
         "x": [
          75.2456
         ],
         "y": [
          80
         ]
        },
        {
         "hoverinfo": "none",
         "mode": "text",
         "text": "Vy = 0.44 m/s<br>for 90.0 s",
         "type": "scatter",
         "x": [
          37.244
         ],
         "y": [
          100
         ]
        },
        {
         "hoverinfo": "none",
         "mode": "text",
         "text": "241.7 km cruise at 158.49 km/h<br>for 1.525 hours",
         "type": "scatter",
         "x": [
          124.85
         ],
         "y": [
          110
         ]
        },
        {
         "hoverinfo": "none",
         "mode": "text",
         "text": "Vy = -0.46 m/s<br>for 87.0 s",
         "type": "scatter",
         "x": [
          207.55
         ],
         "y": [
          100
         ]
        },
        {
         "hoverinfo": "none",
         "mode": "text",
         "text": "-1.26 m/s2<br>horizontal acceleration<br>for 35.0 s",
         "type": "scatter",
         "x": [
          174.8
         ],
         "y": [
          80
         ]
        },
        {
         "hoverinfo": "none",
         "mode": "text",
         "text": "-1.33 m/s<br>vertical descend<br>for 60.0 s",
         "type": "scatter",
         "x": [
          230.25
         ],
         "y": [
          25
         ]
        },
        {
         "hoverinfo": "none",
         "mode": "text",
         "text": "<b>Mission Summary</b><br>Date: Feb 23, 2023<br>Duration: 1.0hour, 37.0 mins, 13.0 secs",
         "type": "scatter",
         "x": [
          124.85
         ],
         "y": [
          40
         ]
        }
       ],
       "layout": {
        "showlegend": false,
        "template": {
         "data": {
          "bar": [
           {
            "error_x": {
             "color": "#2a3f5f"
            },
            "error_y": {
             "color": "#2a3f5f"
            },
            "marker": {
             "line": {
              "color": "#E5ECF6",
              "width": 0.5
             },
             "pattern": {
              "fillmode": "overlay",
              "size": 10,
              "solidity": 0.2
             }
            },
            "type": "bar"
           }
          ],
          "barpolar": [
           {
            "marker": {
             "line": {
              "color": "#E5ECF6",
              "width": 0.5
             },
             "pattern": {
              "fillmode": "overlay",
              "size": 10,
              "solidity": 0.2
             }
            },
            "type": "barpolar"
           }
          ],
          "carpet": [
           {
            "aaxis": {
             "endlinecolor": "#2a3f5f",
             "gridcolor": "white",
             "linecolor": "white",
             "minorgridcolor": "white",
             "startlinecolor": "#2a3f5f"
            },
            "baxis": {
             "endlinecolor": "#2a3f5f",
             "gridcolor": "white",
             "linecolor": "white",
             "minorgridcolor": "white",
             "startlinecolor": "#2a3f5f"
            },
            "type": "carpet"
           }
          ],
          "choropleth": [
           {
            "colorbar": {
             "outlinewidth": 0,
             "ticks": ""
            },
            "type": "choropleth"
           }
          ],
          "contour": [
           {
            "colorbar": {
             "outlinewidth": 0,
             "ticks": ""
            },
            "colorscale": [
             [
              0,
              "#0d0887"
             ],
             [
              0.1111111111111111,
              "#46039f"
             ],
             [
              0.2222222222222222,
              "#7201a8"
             ],
             [
              0.3333333333333333,
              "#9c179e"
             ],
             [
              0.4444444444444444,
              "#bd3786"
             ],
             [
              0.5555555555555556,
              "#d8576b"
             ],
             [
              0.6666666666666666,
              "#ed7953"
             ],
             [
              0.7777777777777778,
              "#fb9f3a"
             ],
             [
              0.8888888888888888,
              "#fdca26"
             ],
             [
              1,
              "#f0f921"
             ]
            ],
            "type": "contour"
           }
          ],
          "contourcarpet": [
           {
            "colorbar": {
             "outlinewidth": 0,
             "ticks": ""
            },
            "type": "contourcarpet"
           }
          ],
          "heatmap": [
           {
            "colorbar": {
             "outlinewidth": 0,
             "ticks": ""
            },
            "colorscale": [
             [
              0,
              "#0d0887"
             ],
             [
              0.1111111111111111,
              "#46039f"
             ],
             [
              0.2222222222222222,
              "#7201a8"
             ],
             [
              0.3333333333333333,
              "#9c179e"
             ],
             [
              0.4444444444444444,
              "#bd3786"
             ],
             [
              0.5555555555555556,
              "#d8576b"
             ],
             [
              0.6666666666666666,
              "#ed7953"
             ],
             [
              0.7777777777777778,
              "#fb9f3a"
             ],
             [
              0.8888888888888888,
              "#fdca26"
             ],
             [
              1,
              "#f0f921"
             ]
            ],
            "type": "heatmap"
           }
          ],
          "heatmapgl": [
           {
            "colorbar": {
             "outlinewidth": 0,
             "ticks": ""
            },
            "colorscale": [
             [
              0,
              "#0d0887"
             ],
             [
              0.1111111111111111,
              "#46039f"
             ],
             [
              0.2222222222222222,
              "#7201a8"
             ],
             [
              0.3333333333333333,
              "#9c179e"
             ],
             [
              0.4444444444444444,
              "#bd3786"
             ],
             [
              0.5555555555555556,
              "#d8576b"
             ],
             [
              0.6666666666666666,
              "#ed7953"
             ],
             [
              0.7777777777777778,
              "#fb9f3a"
             ],
             [
              0.8888888888888888,
              "#fdca26"
             ],
             [
              1,
              "#f0f921"
             ]
            ],
            "type": "heatmapgl"
           }
          ],
          "histogram": [
           {
            "marker": {
             "pattern": {
              "fillmode": "overlay",
              "size": 10,
              "solidity": 0.2
             }
            },
            "type": "histogram"
           }
          ],
          "histogram2d": [
           {
            "colorbar": {
             "outlinewidth": 0,
             "ticks": ""
            },
            "colorscale": [
             [
              0,
              "#0d0887"
             ],
             [
              0.1111111111111111,
              "#46039f"
             ],
             [
              0.2222222222222222,
              "#7201a8"
             ],
             [
              0.3333333333333333,
              "#9c179e"
             ],
             [
              0.4444444444444444,
              "#bd3786"
             ],
             [
              0.5555555555555556,
              "#d8576b"
             ],
             [
              0.6666666666666666,
              "#ed7953"
             ],
             [
              0.7777777777777778,
              "#fb9f3a"
             ],
             [
              0.8888888888888888,
              "#fdca26"
             ],
             [
              1,
              "#f0f921"
             ]
            ],
            "type": "histogram2d"
           }
          ],
          "histogram2dcontour": [
           {
            "colorbar": {
             "outlinewidth": 0,
             "ticks": ""
            },
            "colorscale": [
             [
              0,
              "#0d0887"
             ],
             [
              0.1111111111111111,
              "#46039f"
             ],
             [
              0.2222222222222222,
              "#7201a8"
             ],
             [
              0.3333333333333333,
              "#9c179e"
             ],
             [
              0.4444444444444444,
              "#bd3786"
             ],
             [
              0.5555555555555556,
              "#d8576b"
             ],
             [
              0.6666666666666666,
              "#ed7953"
             ],
             [
              0.7777777777777778,
              "#fb9f3a"
             ],
             [
              0.8888888888888888,
              "#fdca26"
             ],
             [
              1,
              "#f0f921"
             ]
            ],
            "type": "histogram2dcontour"
           }
          ],
          "mesh3d": [
           {
            "colorbar": {
             "outlinewidth": 0,
             "ticks": ""
            },
            "type": "mesh3d"
           }
          ],
          "parcoords": [
           {
            "line": {
             "colorbar": {
              "outlinewidth": 0,
              "ticks": ""
             }
            },
            "type": "parcoords"
           }
          ],
          "pie": [
           {
            "automargin": true,
            "type": "pie"
           }
          ],
          "scatter": [
           {
            "fillpattern": {
             "fillmode": "overlay",
             "size": 10,
             "solidity": 0.2
            },
            "type": "scatter"
           }
          ],
          "scatter3d": [
           {
            "line": {
             "colorbar": {
              "outlinewidth": 0,
              "ticks": ""
             }
            },
            "marker": {
             "colorbar": {
              "outlinewidth": 0,
              "ticks": ""
             }
            },
            "type": "scatter3d"
           }
          ],
          "scattercarpet": [
           {
            "marker": {
             "colorbar": {
              "outlinewidth": 0,
              "ticks": ""
             }
            },
            "type": "scattercarpet"
           }
          ],
          "scattergeo": [
           {
            "marker": {
             "colorbar": {
              "outlinewidth": 0,
              "ticks": ""
             }
            },
            "type": "scattergeo"
           }
          ],
          "scattergl": [
           {
            "marker": {
             "colorbar": {
              "outlinewidth": 0,
              "ticks": ""
             }
            },
            "type": "scattergl"
           }
          ],
          "scattermapbox": [
           {
            "marker": {
             "colorbar": {
              "outlinewidth": 0,
              "ticks": ""
             }
            },
            "type": "scattermapbox"
           }
          ],
          "scatterpolar": [
           {
            "marker": {
             "colorbar": {
              "outlinewidth": 0,
              "ticks": ""
             }
            },
            "type": "scatterpolar"
           }
          ],
          "scatterpolargl": [
           {
            "marker": {
             "colorbar": {
              "outlinewidth": 0,
              "ticks": ""
             }
            },
            "type": "scatterpolargl"
           }
          ],
          "scatterternary": [
           {
            "marker": {
             "colorbar": {
              "outlinewidth": 0,
              "ticks": ""
             }
            },
            "type": "scatterternary"
           }
          ],
          "surface": [
           {
            "colorbar": {
             "outlinewidth": 0,
             "ticks": ""
            },
            "colorscale": [
             [
              0,
              "#0d0887"
             ],
             [
              0.1111111111111111,
              "#46039f"
             ],
             [
              0.2222222222222222,
              "#7201a8"
             ],
             [
              0.3333333333333333,
              "#9c179e"
             ],
             [
              0.4444444444444444,
              "#bd3786"
             ],
             [
              0.5555555555555556,
              "#d8576b"
             ],
             [
              0.6666666666666666,
              "#ed7953"
             ],
             [
              0.7777777777777778,
              "#fb9f3a"
             ],
             [
              0.8888888888888888,
              "#fdca26"
             ],
             [
              1,
              "#f0f921"
             ]
            ],
            "type": "surface"
           }
          ],
          "table": [
           {
            "cells": {
             "fill": {
              "color": "#EBF0F8"
             },
             "line": {
              "color": "white"
             }
            },
            "header": {
             "fill": {
              "color": "#C8D4E3"
             },
             "line": {
              "color": "white"
             }
            },
            "type": "table"
           }
          ]
         },
         "layout": {
          "annotationdefaults": {
           "arrowcolor": "#2a3f5f",
           "arrowhead": 0,
           "arrowwidth": 1
          },
          "autotypenumbers": "strict",
          "coloraxis": {
           "colorbar": {
            "outlinewidth": 0,
            "ticks": ""
           }
          },
          "colorscale": {
           "diverging": [
            [
             0,
             "#8e0152"
            ],
            [
             0.1,
             "#c51b7d"
            ],
            [
             0.2,
             "#de77ae"
            ],
            [
             0.3,
             "#f1b6da"
            ],
            [
             0.4,
             "#fde0ef"
            ],
            [
             0.5,
             "#f7f7f7"
            ],
            [
             0.6,
             "#e6f5d0"
            ],
            [
             0.7,
             "#b8e186"
            ],
            [
             0.8,
             "#7fbc41"
            ],
            [
             0.9,
             "#4d9221"
            ],
            [
             1,
             "#276419"
            ]
           ],
           "sequential": [
            [
             0,
             "#0d0887"
            ],
            [
             0.1111111111111111,
             "#46039f"
            ],
            [
             0.2222222222222222,
             "#7201a8"
            ],
            [
             0.3333333333333333,
             "#9c179e"
            ],
            [
             0.4444444444444444,
             "#bd3786"
            ],
            [
             0.5555555555555556,
             "#d8576b"
            ],
            [
             0.6666666666666666,
             "#ed7953"
            ],
            [
             0.7777777777777778,
             "#fb9f3a"
            ],
            [
             0.8888888888888888,
             "#fdca26"
            ],
            [
             1,
             "#f0f921"
            ]
           ],
           "sequentialminus": [
            [
             0,
             "#0d0887"
            ],
            [
             0.1111111111111111,
             "#46039f"
            ],
            [
             0.2222222222222222,
             "#7201a8"
            ],
            [
             0.3333333333333333,
             "#9c179e"
            ],
            [
             0.4444444444444444,
             "#bd3786"
            ],
            [
             0.5555555555555556,
             "#d8576b"
            ],
            [
             0.6666666666666666,
             "#ed7953"
            ],
            [
             0.7777777777777778,
             "#fb9f3a"
            ],
            [
             0.8888888888888888,
             "#fdca26"
            ],
            [
             1,
             "#f0f921"
            ]
           ]
          },
          "colorway": [
           "#636efa",
           "#EF553B",
           "#00cc96",
           "#ab63fa",
           "#FFA15A",
           "#19d3f3",
           "#FF6692",
           "#B6E880",
           "#FF97FF",
           "#FECB52"
          ],
          "font": {
           "color": "#2a3f5f"
          },
          "geo": {
           "bgcolor": "white",
           "lakecolor": "white",
           "landcolor": "#E5ECF6",
           "showlakes": true,
           "showland": true,
           "subunitcolor": "white"
          },
          "hoverlabel": {
           "align": "left"
          },
          "hovermode": "closest",
          "mapbox": {
           "style": "light"
          },
          "paper_bgcolor": "white",
          "plot_bgcolor": "#E5ECF6",
          "polar": {
           "angularaxis": {
            "gridcolor": "white",
            "linecolor": "white",
            "ticks": ""
           },
           "bgcolor": "#E5ECF6",
           "radialaxis": {
            "gridcolor": "white",
            "linecolor": "white",
            "ticks": ""
           }
          },
          "scene": {
           "xaxis": {
            "backgroundcolor": "#E5ECF6",
            "gridcolor": "white",
            "gridwidth": 2,
            "linecolor": "white",
            "showbackground": true,
            "ticks": "",
            "zerolinecolor": "white"
           },
           "yaxis": {
            "backgroundcolor": "#E5ECF6",
            "gridcolor": "white",
            "gridwidth": 2,
            "linecolor": "white",
            "showbackground": true,
            "ticks": "",
            "zerolinecolor": "white"
           },
           "zaxis": {
            "backgroundcolor": "#E5ECF6",
            "gridcolor": "white",
            "gridwidth": 2,
            "linecolor": "white",
            "showbackground": true,
            "ticks": "",
            "zerolinecolor": "white"
           }
          },
          "shapedefaults": {
           "line": {
            "color": "#2a3f5f"
           }
          },
          "ternary": {
           "aaxis": {
            "gridcolor": "white",
            "linecolor": "white",
            "ticks": ""
           },
           "baxis": {
            "gridcolor": "white",
            "linecolor": "white",
            "ticks": ""
           },
           "bgcolor": "#E5ECF6",
           "caxis": {
            "gridcolor": "white",
            "linecolor": "white",
            "ticks": ""
           }
          },
          "title": {
           "x": 0.05
          },
          "xaxis": {
           "automargin": true,
           "gridcolor": "white",
           "linecolor": "white",
           "ticks": "",
           "title": {
            "standoff": 15
           },
           "zerolinecolor": "white",
           "zerolinewidth": 2
          },
          "yaxis": {
           "automargin": true,
           "gridcolor": "white",
           "linecolor": "white",
           "ticks": "",
           "title": {
            "standoff": 15
           },
           "zerolinecolor": "white",
           "zerolinewidth": 2
          }
         }
        },
        "title": {
         "text": "Simplified Mission Profile",
         "x": 0.5
        },
        "xaxis": {
         "range": [
          -11,
          261
         ],
         "title": {
          "text": "Distance [km]"
         }
        },
        "yaxis": {
         "range": [
          -10,
          140
         ],
         "title": {
          "text": "Altitude [m]"
         }
        }
       }
      },
      "text/html": [
       "<div>                            <div id=\"f4f51482-2413-4421-ae32-864fd150d92a\" class=\"plotly-graph-div\" style=\"height:525px; width:100%;\"></div>            <script type=\"text/javascript\">                require([\"plotly\"], function(Plotly) {                    window.PLOTLYENV=window.PLOTLYENV || {};                                    if (document.getElementById(\"f4f51482-2413-4421-ae32-864fd150d92a\")) {                    Plotly.newPlot(                        \"f4f51482-2413-4421-ae32-864fd150d92a\",                        [{\"hovertemplate\":\"<extra></extra>dist = %{x} km<br>alt   = %{y}.0 m\",\"line\":{\"color\":\"blue\"},\"mode\":\"lines+markers\",\"name\":\"Takeoff\",\"text\":\"Takeoff\",\"x\":[0.0,0.0032],\"y\":[0.0,80.0],\"type\":\"scatter\"},{\"hoverinfo\":\"none\",\"mode\":\"text\",\"text\":\"<b>Takeoff</b>\",\"x\":[10.0016],\"y\":[40.0],\"type\":\"scatter\"},{\"hovertemplate\":\"<extra></extra>dist = %{x} km<br>alt   = %{y}.0 m\",\"line\":{\"color\":\"blue\"},\"mode\":\"lines+markers\",\"name\":\"Forward Transition\",\"text\":\"Forward Transition\",\"x\":[0.0032,0.488],\"y\":[80.0,80.0],\"type\":\"scatter\"},{\"hoverinfo\":\"none\",\"mode\":\"text\",\"text\":\"<b>Forward Transition</b>\",\"x\":[23.2456],\"y\":[80.0],\"type\":\"scatter\"},{\"hovertemplate\":\"<extra></extra>dist = %{x} km<br>alt   = %{y}.0 m\",\"line\":{\"color\":\"blue\"},\"mode\":\"lines+markers\",\"name\":\"Climb\",\"text\":\"Climb\",\"x\":[0.488,4.0],\"y\":[80.0,120.0],\"type\":\"scatter\"},{\"hoverinfo\":\"none\",\"mode\":\"text\",\"text\":\"<b>Climb</b>\",\"x\":[11.244],\"y\":[100.0],\"type\":\"scatter\"},{\"hovertemplate\":\"<extra></extra>dist = %{x} km<br>alt   = %{y}.0 m\",\"line\":{\"color\":\"blue\"},\"mode\":\"lines+markers\",\"name\":\"Fixed Wing Cruise\",\"text\":\"Fixed Wing Cruise\",\"x\":[4.0,245.7],\"y\":[120.0,120.0],\"type\":\"scatter\"},{\"hoverinfo\":\"none\",\"mode\":\"text\",\"text\":\"<b>Fixed Wing Cruise</b>\",\"x\":[124.85],\"y\":[125.0],\"type\":\"scatter\"},{\"hovertemplate\":\"<extra></extra>dist = %{x} km<br>alt   = %{y}.0 m\",\"line\":{\"color\":\"blue\"},\"mode\":\"lines+markers\",\"name\":\"Descend\",\"text\":\"Descend\",\"x\":[245.7,249.4],\"y\":[120.0,80.0],\"type\":\"scatter\"},{\"hoverinfo\":\"none\",\"mode\":\"text\",\"text\":\"<b>Descend</b>\",\"x\":[234.55],\"y\":[100.0],\"type\":\"scatter\"},{\"hovertemplate\":\"<extra></extra>dist = %{x} km<br>alt   = %{y}.0 m\",\"line\":{\"color\":\"blue\"},\"mode\":\"lines+markers\",\"name\":\"Backward Transition\",\"text\":\"Backward Transition\",\"x\":[249.4,250.2],\"y\":[80.0,80.0],\"type\":\"scatter\"},{\"hoverinfo\":\"none\",\"mode\":\"text\",\"text\":\"<b>Backward Transition</b>\",\"x\":[225.8],\"y\":[80.0],\"type\":\"scatter\"},{\"hovertemplate\":\"<extra></extra>dist = %{x} km<br>alt   = %{y}.0 m\",\"line\":{\"color\":\"blue\"},\"mode\":\"lines+markers\",\"name\":\"Landing\",\"text\":\"Landing\",\"x\":[250.2,250.3],\"y\":[80.0,0.0],\"type\":\"scatter\"},{\"hoverinfo\":\"none\",\"mode\":\"text\",\"text\":\"<b>Landing</b>\",\"x\":[239.25],\"y\":[40.0],\"type\":\"scatter\"},{\"hoverinfo\":\"none\",\"mode\":\"text\",\"text\":\"2.0 m/s<br>vertical climb<br>for 40.0 s\",\"x\":[15.0016],\"y\":[25.0],\"type\":\"scatter\"},{\"hoverinfo\":\"none\",\"mode\":\"text\",\"text\":\"2.20 m/s2<br>horizontal acceleration<br>for 20.0 s\",\"x\":[75.2456],\"y\":[80.0],\"type\":\"scatter\"},{\"hoverinfo\":\"none\",\"mode\":\"text\",\"text\":\"Vy = 0.44 m/s<br>for 90.0 s\",\"x\":[37.244],\"y\":[100.0],\"type\":\"scatter\"},{\"hoverinfo\":\"none\",\"mode\":\"text\",\"text\":\"241.7 km cruise at 158.49 km/h<br>for 1.525 hours\",\"x\":[124.85],\"y\":[110.0],\"type\":\"scatter\"},{\"hoverinfo\":\"none\",\"mode\":\"text\",\"text\":\"Vy = -0.46 m/s<br>for 87.0 s\",\"x\":[207.55],\"y\":[100.0],\"type\":\"scatter\"},{\"hoverinfo\":\"none\",\"mode\":\"text\",\"text\":\"-1.26 m/s2<br>horizontal acceleration<br>for 35.0 s\",\"x\":[174.8],\"y\":[80.0],\"type\":\"scatter\"},{\"hoverinfo\":\"none\",\"mode\":\"text\",\"text\":\"-1.33 m/s<br>vertical descend<br>for 60.0 s\",\"x\":[230.25],\"y\":[25.0],\"type\":\"scatter\"},{\"hoverinfo\":\"none\",\"mode\":\"text\",\"text\":\"<b>Mission Summary</b><br>Date: Feb 23, 2023<br>Duration: 1.0hour, 37.0 mins, 13.0 secs\",\"x\":[124.85],\"y\":[40.0],\"type\":\"scatter\"}],                        {\"title\":{\"text\":\"Simplified Mission Profile\",\"x\":0.5},\"xaxis\":{\"range\":[-11,261],\"title\":{\"text\":\"Distance [km]\"}},\"yaxis\":{\"range\":[-10,140],\"title\":{\"text\":\"Altitude [m]\"}},\"template\":{\"data\":{\"histogram2dcontour\":[{\"type\":\"histogram2dcontour\",\"colorbar\":{\"outlinewidth\":0,\"ticks\":\"\"},\"colorscale\":[[0.0,\"#0d0887\"],[0.1111111111111111,\"#46039f\"],[0.2222222222222222,\"#7201a8\"],[0.3333333333333333,\"#9c179e\"],[0.4444444444444444,\"#bd3786\"],[0.5555555555555556,\"#d8576b\"],[0.6666666666666666,\"#ed7953\"],[0.7777777777777778,\"#fb9f3a\"],[0.8888888888888888,\"#fdca26\"],[1.0,\"#f0f921\"]]}],\"choropleth\":[{\"type\":\"choropleth\",\"colorbar\":{\"outlinewidth\":0,\"ticks\":\"\"}}],\"histogram2d\":[{\"type\":\"histogram2d\",\"colorbar\":{\"outlinewidth\":0,\"ticks\":\"\"},\"colorscale\":[[0.0,\"#0d0887\"],[0.1111111111111111,\"#46039f\"],[0.2222222222222222,\"#7201a8\"],[0.3333333333333333,\"#9c179e\"],[0.4444444444444444,\"#bd3786\"],[0.5555555555555556,\"#d8576b\"],[0.6666666666666666,\"#ed7953\"],[0.7777777777777778,\"#fb9f3a\"],[0.8888888888888888,\"#fdca26\"],[1.0,\"#f0f921\"]]}],\"heatmap\":[{\"type\":\"heatmap\",\"colorbar\":{\"outlinewidth\":0,\"ticks\":\"\"},\"colorscale\":[[0.0,\"#0d0887\"],[0.1111111111111111,\"#46039f\"],[0.2222222222222222,\"#7201a8\"],[0.3333333333333333,\"#9c179e\"],[0.4444444444444444,\"#bd3786\"],[0.5555555555555556,\"#d8576b\"],[0.6666666666666666,\"#ed7953\"],[0.7777777777777778,\"#fb9f3a\"],[0.8888888888888888,\"#fdca26\"],[1.0,\"#f0f921\"]]}],\"heatmapgl\":[{\"type\":\"heatmapgl\",\"colorbar\":{\"outlinewidth\":0,\"ticks\":\"\"},\"colorscale\":[[0.0,\"#0d0887\"],[0.1111111111111111,\"#46039f\"],[0.2222222222222222,\"#7201a8\"],[0.3333333333333333,\"#9c179e\"],[0.4444444444444444,\"#bd3786\"],[0.5555555555555556,\"#d8576b\"],[0.6666666666666666,\"#ed7953\"],[0.7777777777777778,\"#fb9f3a\"],[0.8888888888888888,\"#fdca26\"],[1.0,\"#f0f921\"]]}],\"contourcarpet\":[{\"type\":\"contourcarpet\",\"colorbar\":{\"outlinewidth\":0,\"ticks\":\"\"}}],\"contour\":[{\"type\":\"contour\",\"colorbar\":{\"outlinewidth\":0,\"ticks\":\"\"},\"colorscale\":[[0.0,\"#0d0887\"],[0.1111111111111111,\"#46039f\"],[0.2222222222222222,\"#7201a8\"],[0.3333333333333333,\"#9c179e\"],[0.4444444444444444,\"#bd3786\"],[0.5555555555555556,\"#d8576b\"],[0.6666666666666666,\"#ed7953\"],[0.7777777777777778,\"#fb9f3a\"],[0.8888888888888888,\"#fdca26\"],[1.0,\"#f0f921\"]]}],\"surface\":[{\"type\":\"surface\",\"colorbar\":{\"outlinewidth\":0,\"ticks\":\"\"},\"colorscale\":[[0.0,\"#0d0887\"],[0.1111111111111111,\"#46039f\"],[0.2222222222222222,\"#7201a8\"],[0.3333333333333333,\"#9c179e\"],[0.4444444444444444,\"#bd3786\"],[0.5555555555555556,\"#d8576b\"],[0.6666666666666666,\"#ed7953\"],[0.7777777777777778,\"#fb9f3a\"],[0.8888888888888888,\"#fdca26\"],[1.0,\"#f0f921\"]]}],\"mesh3d\":[{\"type\":\"mesh3d\",\"colorbar\":{\"outlinewidth\":0,\"ticks\":\"\"}}],\"scatter\":[{\"fillpattern\":{\"fillmode\":\"overlay\",\"size\":10,\"solidity\":0.2},\"type\":\"scatter\"}],\"parcoords\":[{\"type\":\"parcoords\",\"line\":{\"colorbar\":{\"outlinewidth\":0,\"ticks\":\"\"}}}],\"scatterpolargl\":[{\"type\":\"scatterpolargl\",\"marker\":{\"colorbar\":{\"outlinewidth\":0,\"ticks\":\"\"}}}],\"bar\":[{\"error_x\":{\"color\":\"#2a3f5f\"},\"error_y\":{\"color\":\"#2a3f5f\"},\"marker\":{\"line\":{\"color\":\"#E5ECF6\",\"width\":0.5},\"pattern\":{\"fillmode\":\"overlay\",\"size\":10,\"solidity\":0.2}},\"type\":\"bar\"}],\"scattergeo\":[{\"type\":\"scattergeo\",\"marker\":{\"colorbar\":{\"outlinewidth\":0,\"ticks\":\"\"}}}],\"scatterpolar\":[{\"type\":\"scatterpolar\",\"marker\":{\"colorbar\":{\"outlinewidth\":0,\"ticks\":\"\"}}}],\"histogram\":[{\"marker\":{\"pattern\":{\"fillmode\":\"overlay\",\"size\":10,\"solidity\":0.2}},\"type\":\"histogram\"}],\"scattergl\":[{\"type\":\"scattergl\",\"marker\":{\"colorbar\":{\"outlinewidth\":0,\"ticks\":\"\"}}}],\"scatter3d\":[{\"type\":\"scatter3d\",\"line\":{\"colorbar\":{\"outlinewidth\":0,\"ticks\":\"\"}},\"marker\":{\"colorbar\":{\"outlinewidth\":0,\"ticks\":\"\"}}}],\"scattermapbox\":[{\"type\":\"scattermapbox\",\"marker\":{\"colorbar\":{\"outlinewidth\":0,\"ticks\":\"\"}}}],\"scatterternary\":[{\"type\":\"scatterternary\",\"marker\":{\"colorbar\":{\"outlinewidth\":0,\"ticks\":\"\"}}}],\"scattercarpet\":[{\"type\":\"scattercarpet\",\"marker\":{\"colorbar\":{\"outlinewidth\":0,\"ticks\":\"\"}}}],\"carpet\":[{\"aaxis\":{\"endlinecolor\":\"#2a3f5f\",\"gridcolor\":\"white\",\"linecolor\":\"white\",\"minorgridcolor\":\"white\",\"startlinecolor\":\"#2a3f5f\"},\"baxis\":{\"endlinecolor\":\"#2a3f5f\",\"gridcolor\":\"white\",\"linecolor\":\"white\",\"minorgridcolor\":\"white\",\"startlinecolor\":\"#2a3f5f\"},\"type\":\"carpet\"}],\"table\":[{\"cells\":{\"fill\":{\"color\":\"#EBF0F8\"},\"line\":{\"color\":\"white\"}},\"header\":{\"fill\":{\"color\":\"#C8D4E3\"},\"line\":{\"color\":\"white\"}},\"type\":\"table\"}],\"barpolar\":[{\"marker\":{\"line\":{\"color\":\"#E5ECF6\",\"width\":0.5},\"pattern\":{\"fillmode\":\"overlay\",\"size\":10,\"solidity\":0.2}},\"type\":\"barpolar\"}],\"pie\":[{\"automargin\":true,\"type\":\"pie\"}]},\"layout\":{\"autotypenumbers\":\"strict\",\"colorway\":[\"#636efa\",\"#EF553B\",\"#00cc96\",\"#ab63fa\",\"#FFA15A\",\"#19d3f3\",\"#FF6692\",\"#B6E880\",\"#FF97FF\",\"#FECB52\"],\"font\":{\"color\":\"#2a3f5f\"},\"hovermode\":\"closest\",\"hoverlabel\":{\"align\":\"left\"},\"paper_bgcolor\":\"white\",\"plot_bgcolor\":\"#E5ECF6\",\"polar\":{\"bgcolor\":\"#E5ECF6\",\"angularaxis\":{\"gridcolor\":\"white\",\"linecolor\":\"white\",\"ticks\":\"\"},\"radialaxis\":{\"gridcolor\":\"white\",\"linecolor\":\"white\",\"ticks\":\"\"}},\"ternary\":{\"bgcolor\":\"#E5ECF6\",\"aaxis\":{\"gridcolor\":\"white\",\"linecolor\":\"white\",\"ticks\":\"\"},\"baxis\":{\"gridcolor\":\"white\",\"linecolor\":\"white\",\"ticks\":\"\"},\"caxis\":{\"gridcolor\":\"white\",\"linecolor\":\"white\",\"ticks\":\"\"}},\"coloraxis\":{\"colorbar\":{\"outlinewidth\":0,\"ticks\":\"\"}},\"colorscale\":{\"sequential\":[[0.0,\"#0d0887\"],[0.1111111111111111,\"#46039f\"],[0.2222222222222222,\"#7201a8\"],[0.3333333333333333,\"#9c179e\"],[0.4444444444444444,\"#bd3786\"],[0.5555555555555556,\"#d8576b\"],[0.6666666666666666,\"#ed7953\"],[0.7777777777777778,\"#fb9f3a\"],[0.8888888888888888,\"#fdca26\"],[1.0,\"#f0f921\"]],\"sequentialminus\":[[0.0,\"#0d0887\"],[0.1111111111111111,\"#46039f\"],[0.2222222222222222,\"#7201a8\"],[0.3333333333333333,\"#9c179e\"],[0.4444444444444444,\"#bd3786\"],[0.5555555555555556,\"#d8576b\"],[0.6666666666666666,\"#ed7953\"],[0.7777777777777778,\"#fb9f3a\"],[0.8888888888888888,\"#fdca26\"],[1.0,\"#f0f921\"]],\"diverging\":[[0,\"#8e0152\"],[0.1,\"#c51b7d\"],[0.2,\"#de77ae\"],[0.3,\"#f1b6da\"],[0.4,\"#fde0ef\"],[0.5,\"#f7f7f7\"],[0.6,\"#e6f5d0\"],[0.7,\"#b8e186\"],[0.8,\"#7fbc41\"],[0.9,\"#4d9221\"],[1,\"#276419\"]]},\"xaxis\":{\"gridcolor\":\"white\",\"linecolor\":\"white\",\"ticks\":\"\",\"title\":{\"standoff\":15},\"zerolinecolor\":\"white\",\"automargin\":true,\"zerolinewidth\":2},\"yaxis\":{\"gridcolor\":\"white\",\"linecolor\":\"white\",\"ticks\":\"\",\"title\":{\"standoff\":15},\"zerolinecolor\":\"white\",\"automargin\":true,\"zerolinewidth\":2},\"scene\":{\"xaxis\":{\"backgroundcolor\":\"#E5ECF6\",\"gridcolor\":\"white\",\"linecolor\":\"white\",\"showbackground\":true,\"ticks\":\"\",\"zerolinecolor\":\"white\",\"gridwidth\":2},\"yaxis\":{\"backgroundcolor\":\"#E5ECF6\",\"gridcolor\":\"white\",\"linecolor\":\"white\",\"showbackground\":true,\"ticks\":\"\",\"zerolinecolor\":\"white\",\"gridwidth\":2},\"zaxis\":{\"backgroundcolor\":\"#E5ECF6\",\"gridcolor\":\"white\",\"linecolor\":\"white\",\"showbackground\":true,\"ticks\":\"\",\"zerolinecolor\":\"white\",\"gridwidth\":2}},\"shapedefaults\":{\"line\":{\"color\":\"#2a3f5f\"}},\"annotationdefaults\":{\"arrowcolor\":\"#2a3f5f\",\"arrowhead\":0,\"arrowwidth\":1},\"geo\":{\"bgcolor\":\"white\",\"landcolor\":\"#E5ECF6\",\"subunitcolor\":\"white\",\"showland\":true,\"showlakes\":true,\"lakecolor\":\"white\"},\"title\":{\"x\":0.05},\"mapbox\":{\"style\":\"light\"}}},\"showlegend\":false},                        {\"responsive\": true}                    ).then(function(){\n",
       "                            \n",
       "var gd = document.getElementById('f4f51482-2413-4421-ae32-864fd150d92a');\n",
       "var x = new MutationObserver(function (mutations, observer) {{\n",
       "        var display = window.getComputedStyle(gd).display;\n",
       "        if (!display || display === 'none') {{\n",
       "            console.log([gd, 'removed!']);\n",
       "            Plotly.purge(gd);\n",
       "            observer.disconnect();\n",
       "        }}\n",
       "}});\n",
       "\n",
       "// Listen for the removal of the full notebook cells\n",
       "var notebookContainer = gd.closest('#notebook-container');\n",
       "if (notebookContainer) {{\n",
       "    x.observe(notebookContainer, {childList: true});\n",
       "}}\n",
       "\n",
       "// Listen for the clearing of the current output cell\n",
       "var outputEl = gd.closest('.output');\n",
       "if (outputEl) {{\n",
       "    x.observe(outputEl, {childList: true});\n",
       "}}\n",
       "\n",
       "                        })                };                });            </script>        </div>"
      ]
     },
     "metadata": {},
     "output_type": "display_data"
    }
   ],
   "source": [
    "plot_list = []\n",
    "\n",
    "dx = [10,23,9,0,-13,-24,-11]\n",
    "dy = [0,0,0,5,0,0,0]\n",
    "\n",
    "for i, seg in enumerate(mission_segment_list):\n",
    "    go_scatter = go.Scatter(mode = 'lines+markers',\n",
    "                            x = seg.dist,\n",
    "                            y = seg.alt,\n",
    "                            name = seg.name,\n",
    "                            line = dict(color='blue'),\n",
    "                            text = seg.name,\n",
    "                            hovertemplate = '<extra></extra>dist = %{x} km<br>'+'alt   = %{y}.0 m')\n",
    "    plot_list.append(go_scatter)\n",
    "    go_text = go.Scatter(mode = 'text',\n",
    "                     x = [0.5*(seg.dist[0]+seg.dist[1])+dx[i]],\n",
    "                     y = [0.5*(seg.alt[0]+seg.alt[1])+dy[i]],\n",
    "                     text=f'<b>{seg.name}</b>',\n",
    "                     hoverinfo='none')\n",
    "    plot_list.append(go_text)\n",
    "\n",
    "# Takeoff segment\n",
    "seg = mission_segment_list[0]\n",
    "go_text = go.Scatter(mode = 'text',\n",
    "                 x = [0.5*(seg.dist[0]+seg.dist[1])+15],\n",
    "                 y = [0.5*(seg.alt[0]+seg.alt[1])-15],\n",
    "                 text=f'{seg.vy} m/s<br>vertical climb<br>for {seg.dt} s',\n",
    "                 hoverinfo='none')\n",
    "plot_list.append(go_text)\n",
    "\n",
    "# Forward transition segment\n",
    "seg = mission_segment_list[1]\n",
    "go_text = go.Scatter(mode = 'text',\n",
    "                 x = [0.5*(seg.dist[0]+seg.dist[1]+150)],\n",
    "                 y = [0.5*(seg.alt[0]+seg.alt[1])],\n",
    "                 text=f'{seg.ax:.2f} m/s2<br>horizontal acceleration<br>for {seg.dt} s',\n",
    "                 hoverinfo='none')\n",
    "plot_list.append(go_text)\n",
    "\n",
    "# Climb\n",
    "seg = mission_segment_list[2]\n",
    "go_text = go.Scatter(mode = 'text',\n",
    "                 x = [0.5*(seg.dist[0]+seg.dist[1])+35],\n",
    "                 y = [0.5*(seg.alt[0]+seg.alt[1])],\n",
    "                 text=f'Vy = {seg.vy:.2f} m/s<br>for {seg.dt} s',\n",
    "                 hoverinfo='none')\n",
    "plot_list.append(go_text)\n",
    "\n",
    "# Cruise segment\n",
    "seg = mission_segment_list[3]\n",
    "go_text = go.Scatter(mode = 'text',\n",
    "                 x = [0.5*(seg.dist[0]+seg.dist[1])],\n",
    "                 y = [0.5*(seg.alt[0]+seg.alt[1])-10],\n",
    "                 text=f'{seg.dist[1]-seg.dist[0]} km cruise at {seg.vx:.2f} km/h<br>for {seg.dt/3600} hours',\n",
    "                 hoverinfo='none')\n",
    "plot_list.append(go_text)\n",
    "\n",
    "# Descend\n",
    "seg = mission_segment_list[4]\n",
    "go_text = go.Scatter(mode = 'text',\n",
    "                 x = [0.5*(seg.dist[0]+seg.dist[1])-40],\n",
    "                 y = [0.5*(seg.alt[0]+seg.alt[1])],\n",
    "                 text=f'Vy = {seg.vy:.2f} m/s<br>for {seg.dt} s',\n",
    "                 hoverinfo='none')\n",
    "plot_list.append(go_text)\n",
    "\n",
    "# Backward transition segment\n",
    "seg = mission_segment_list[5]\n",
    "go_text = go.Scatter(mode = 'text',\n",
    "                 x = [0.5*(seg.dist[0]+seg.dist[1]-150)],\n",
    "                 y = [0.5*(seg.alt[0]+seg.alt[1])],\n",
    "                 text=f'{seg.ax:.2f} m/s2<br>horizontal acceleration<br>for {seg.dt} s',\n",
    "                 hoverinfo='none')\n",
    "plot_list.append(go_text)\n",
    "\n",
    "# Landing segment\n",
    "seg = mission_segment_list[6]\n",
    "go_text = go.Scatter(mode = 'text',\n",
    "                 x = [0.5*(seg.dist[0]+seg.dist[1])-20],\n",
    "                 y = [0.5*(seg.alt[0]+seg.alt[1])-15],\n",
    "                 text=f'{seg.vy:.2f} m/s<br>vertical descend<br>for {seg.dt} s',\n",
    "                 hoverinfo='none')\n",
    "plot_list.append(go_text)   \n",
    "\n",
    "# Summary\n",
    "duration = (mission_segment_list[-1].t2-mission_segment_list[0].t1).total_seconds()\n",
    "hours = duration//3600\n",
    "minutes = (duration % 3600)//60\n",
    "seconds = duration % 60\n",
    "go_text = go.Scatter(mode = 'text',\n",
    "                 x = [0.5*(mission_segment_list[3].dist[0]+mission_segment_list[3].dist[1])],\n",
    "                 y = [0.5*(mission_segment_list[3].alt[0]+mission_segment_list[3].alt[1])-80],\n",
    "                 text=f'<b>Mission Summary</b><br>Date: {mission_segment_list[0].t1:%b %d, %Y}<br>Duration: {hours}hour, {minutes} mins, {seconds} secs',\n",
    "                 hoverinfo='none')\n",
    "plot_list.append(go_text) \n",
    "\n",
    "layout = go.Layout(title=go.layout.Title(text=\"Simplified Mission Profile\",x=0.5),\n",
    "                   xaxis={'title':'Distance [km]','range':[-11,261]},\n",
    "                   yaxis={'title':'Altitude [m]','range':[-10,140]})\n",
    "\n",
    "fig = go.Figure(data=plot_list, layout=layout)\n",
    "fig.update_layout(showlegend=False)\n",
    "fig.show()"
   ]
  },
  {
   "cell_type": "markdown",
   "id": "7e29c2ff",
   "metadata": {},
   "source": [
    "## Prosperity I - Specifications and Performance Approximations"
   ]
  },
  {
   "cell_type": "markdown",
   "id": "c28ae875",
   "metadata": {},
   "source": [
    "### General\n",
    "\n",
    "The Prosperity I's specifications are listed below.<br>\n",
    "\n",
    "<b>Propulsion</b>: Fully electric Lift+Cruise<br>\n",
    "<b>Powertrain</b>: 10 lifting rotors + 3 propellers<br>\n",
    "<b>Wingspan</b>: 12.8 m<br>\n",
    "<b>Height</b>: 3.3 m<br><br>\n",
    "\n",
    "The Prosperity I's performance is listed below.<br>\n",
    "\n",
    "<b>Max range</b>: 241.402 km+<br>\n",
    "<b>Cruise speed</b>: 209.215 km/h+:<br>\n",
    "<b>Max payload</b>: 408.233 kg+<br>\n",
    "<b>Hover noise</b>: ~70 dBA<br><br>\n",
    "\n",
    "<b>source</b> = https://www.autoflight.com/en/products/"
   ]
  },
  {
   "cell_type": "code",
   "execution_count": 5,
   "id": "81d69431",
   "metadata": {},
   "outputs": [
    {
     "name": "stdout",
     "output_type": "stream",
     "text": [
      "Payload = 360 kg\n",
      "PWR = 0.24\n"
     ]
    }
   ],
   "source": [
    "no_of_crews = 4 # people\n",
    "MTOW = 1500 # kg\n",
    "payload = no_of_crews * 90 # kg (assuming 1 person = 90 kg)\n",
    "PWR = payload / MTOW # payload-to-weight-ratio\n",
    "print(f'Payload = {payload} kg\\nPWR = {PWR}')"
   ]
  },
  {
   "cell_type": "markdown",
   "id": "c6642198",
   "metadata": {},
   "source": [
    "### Powertrain"
   ]
  },
  {
   "cell_type": "code",
   "execution_count": 6,
   "id": "317161c4",
   "metadata": {},
   "outputs": [
    {
     "name": "stdout",
     "output_type": "stream",
     "text": [
      "Disc loading = 302.18 N/m2\n"
     ]
    }
   ],
   "source": [
    "prop_diam = 2.49 # propeller diameter (m)\n",
    "no_of_lift_props = 10\n",
    "no_of_push_props = 3\n",
    "lift_prop_area = no_of_lift_props * np.pi * (prop_diam/2)**2\n",
    "g = 9.81 # m/s2 (gravitational acceleration)\n",
    "disc_loading = MTOW*g/lift_prop_area\n",
    "print(f'Disc loading = {disc_loading:.2f} N/m2')"
   ]
  },
  {
   "cell_type": "markdown",
   "id": "36a0071e",
   "metadata": {},
   "source": [
    "### Power and Energy Requirement\n",
    "\n",
    "Based on the mission profile, the power and energy required can then be calculated.<br>\n",
    "\n",
    "The power required for the vertical take-off and landing segments are:\n",
    "\n",
    "\\begin{equation*}\n",
    "P_{VTOL} = \\sqrt \\frac{T^3}{2\\rho_{sea}A_{hover}}\n",
    "\\tag{1}\n",
    "\\end{equation*}<br>\n",
    "\n",
    "where $T$ is the hovering thrust, $\\rho$ is the air density, and $A_{hover}$ is the disk actuator area.\n",
    "\n",
    "While the power required for the cruise segment:\n",
    "\n",
    "\\begin{equation*}\n",
    "P_{cruise} = \\frac{D_{cruise}v_{cruise}}{\\eta_{p}}\n",
    "\\tag{2}\n",
    "\\end{equation*}<br>\n",
    "\n",
    "where $D_{cruise}$ is the total drag during cruise, $v_{cruise}$ is the cruise speed, and $\\eta_{p}$ is the propeller efficiency.\n",
    "\n",
    "<b>source</b>: Coleman, C.P., <em>A Survey of Theoretical and Experimental Coaxial Rotor Aerodynamic Research</em>; NASA Ames Research Center: Mountain View, CA, USA, 1997; Technical Paper 3675.\n"
   ]
  },
  {
   "cell_type": "code",
   "execution_count": 7,
   "id": "0e1669df",
   "metadata": {},
   "outputs": [
    {
     "name": "stdout",
     "output_type": "stream",
     "text": [
      "Required hover power = 163.42 kW\n",
      "Hover time = 100.0 s\n",
      "Required hover energy = 4.54 kWh\n"
     ]
    }
   ],
   "source": [
    "T = MTOW*g\n",
    "rho = 1.225 # kg/m3\n",
    "A = lift_prop_area\n",
    "P_hover = np.sqrt((T**3)/(2*rho*A)) / 1000 # kW\n",
    "hover_time = mission_segment_list[0].dt + mission_segment_list[-1].dt\n",
    "E_hover = P_hover * hover_time / 3600 #kWh\n",
    "print(f'Required hover power = {P_hover:.2f} kW')\n",
    "print(f'Hover time = {hover_time} s')\n",
    "print(f'Required hover energy = {E_hover:.2f} kWh')"
   ]
  },
  {
   "cell_type": "markdown",
   "id": "1de0582d",
   "metadata": {},
   "source": [
    "### Range equation for electric aircraft\n",
    "\n",
    "The electric energy consumption of the aircraft is: <br><br>\n",
    "\\begin{equation*}\n",
    "\\tilde{E}m_{batt} \\eta_{t} = W \\frac{L}{D}\n",
    "\\tag{3}\n",
    "\\end{equation*}<br>\n",
    "where $\\tilde{E}$ is the battery energy density, $m_{batt}$ is the battery mass, $\\eta_{t}$ is the consumption efficiency, $W$ is the mass, $L$ is the lift force, $D$ is the drag force, and $R$ is the range. Rewriting the equation for range, it yields:<br><br>\n",
    "\\begin{equation*}\n",
    "R = 0.75 \\tilde{E} \\frac{m_{batt}}{m} \\frac{1}{g} \\frac{L}{D}\n",
    "\\tag{4}\n",
    "\\end{equation*}<br>\n",
    "where $m$ is the aircraft mass, $g$ is the gravity acceleration, and $\\eta_{t}$ is assumed to be 0.75 (conservative).\n",
    "\n",
    "<b>source</b>: Raymer, D.P., <em>Aircraft Design: A Conceptual Approach,</em> 6th ed.; AIAA: Reston, VA. USA, 2018."
   ]
  },
  {
   "cell_type": "code",
   "execution_count": 34,
   "id": "6791d44e",
   "metadata": {},
   "outputs": [],
   "source": [
    "# For doing reversed engineering purpose: mtow is set as a function\n",
    "def calc_mtow(R, E_tilde, m_batt, L_by_D):\n",
    "    \"\"\"\n",
    "    R = cruising range (km)\n",
    "    E_tilde = Battery Energy Density (Wh/kg)\n",
    "    m_batt = battery mass (kg)\n",
    "    L_by_D = Lift-to-drag ratio\n",
    "    \"\"\"\n",
    "    # Convert to SI\n",
    "    R = R * 1000 # m\n",
    "    E_tilde = E_tilde * 3600 # Ws/kg\n",
    "    g = 9.81 # m/s^2\n",
    "    \n",
    "    mtow = 0.75 * E_tilde * m_batt * L_by_D / g / R\n",
    "    \n",
    "    return mtow"
   ]
  },
  {
   "cell_type": "markdown",
   "id": "27ca5f2a",
   "metadata": {},
   "source": [
    "### Aerodynamics\n",
    "A drag force is calculated using the following equations.<br><br>\n",
    "\n",
    "\\begin{equation*}\n",
    "D = \\frac{1}{2} \\rho v^2 S C_{D}\n",
    "\\tag{5}\n",
    "\\end{equation*}<br>\n",
    "\n",
    "\\begin{equation*}\n",
    "C_{D} = C_{D_{p}} + C_{D_{i}}\n",
    "\\tag{6}\n",
    "\\end{equation*}<br>\n",
    "\n",
    "where $\\rho$ is the air density, $v$ is the aircraft velocity, $S$ is the wing area, $C_{D_{p}}$ is the parasite drag, and $C_{D_{i}}$ is the induced drag.<br>\n",
    "\n",
    "The induced drag coefficient value is expressed as the following equation, assuming an ideal elliptical lift distribution.<br><br>\n",
    "\n",
    "\\begin{equation*}\n",
    "C_{D_{i}} = \\frac{C_{L}^2}{\\pi e AR}\n",
    "\\tag{7}\n",
    "\\end{equation*}<br>\n",
    "\n",
    "\\begin{equation*}\n",
    "AR = \\frac{b^2}{S}\n",
    "\\tag{8}\n",
    "\\end{equation*}<br>\n",
    "\n",
    "where $C_{L}$ is the lift coefficient, $e$ is the Oswald span efficiency coefficient, $AR$ is the aspect ratio, and $b$ is the wing span.<br>\n",
    "\n",
    "When cruising, the lift coefficient is as follows.<br><br>\n",
    "\n",
    "\\begin{equation*}\n",
    "C_{L} = \\frac{W}{\\frac{1}{2} \\rho v^2 S}\n",
    "\\tag{9}\n",
    "\\end{equation*}<br>\n",
    "\n",
    "\n",
    "\\begin{equation*}\n",
    "e = 1.78(1-0.045AR^{0.68})-0.64\n",
    "\\tag{10}\n",
    "\\end{equation*}<br>\n",
    "\n",
    "Substituting $C_{L}$ in Eq(9) into Eq(7) yields:<br><br>\n",
    "\n",
    "\\begin{equation*}\n",
    "C_{D_{i}} = \\frac{1}{\\pi e AR}\\big(\\frac{W}{\\frac{1}{2}\\rho v^2S}\\big)^2\n",
    "\\tag{11}\n",
    "\\end{equation*}<br>\n",
    "\n",
    "Substituting $C_{D_{i}}$ in the Eq(11) into Eq(6):<br><br>\n",
    "\n",
    "\\begin{equation*}\n",
    "C_{D} = C_{D_{p}} + \\frac{1}{\\pi e AR}\\big(\\frac{W}{\\frac{1}{2}\\rho v^2S}\\big)^2\n",
    "\\tag{12}\n",
    "\\end{equation*}<br>\n",
    "\n",
    "Substituting $C_{D}$ in Eq(12) into Eq(5):<br><br>\n",
    "\n",
    "\\begin{equation*}\n",
    "D = \\frac{1}{2}\\rho v^2S \\big( C_{D_{p}} + \\frac{1}{\\pi e AR}\\big(\\frac{W}{\\frac{1}{2}\\rho v^2S}\\big)^2 \\big)\n",
    "\\tag{13}\n",
    "\\end{equation*}<br>\n",
    "\n",
    "In order to calculate the total drag, it is necessary to calculate the parasite drag. The component build-up method is used to calculate the parasite drag. The parasite drag at subsonic speed is expressed by the following equation.<br><br>\n",
    "\n",
    "\\begin{equation*}\n",
    "C_{D_{p}} = \\frac{\\Sigma\\big(C_{f}FFQS_{wet}\\big)}{S_{ref}} + C_{D_{misc}} + C_{D_{L\\&P}} \n",
    "\\tag{14}\n",
    "\\end{equation*}<br>\n",
    "\n",
    "where $C_{f}$ is the surface friction coefficient, $FF$ is the form factor, $Q$ is the interference coefficient, $S_{wet}$ is the wetted area, $S_{ref}$ is the reference area, $C_{D_{misc}}$ is the miscellaneous drag, and $C_{D_{L\\&P}}$ is the leakages and protuberances drag coefficient.<br>\n",
    "\n",
    "The surface friction coefficient of the plate is expressed by the following equation for laminar and turbulent flows.<br>\n",
    "\n",
    "Laminar:\n",
    "\\begin{equation*}\n",
    "C_{f} = \\frac{1.328}{\\sqrt{R}}\n",
    "\\tag{15}\n",
    "\\end{equation*}<br>\n",
    "\n",
    "Turbulent:\n",
    "\\begin{equation*}\n",
    "C_{f} = \\frac{0.455}{(log_{10}R)^{2.58}(1+0.144M^2)^{0.65}}\n",
    "\\tag{16}\n",
    "\\end{equation*}<br>\n",
    "\n",
    "where $R$ is the Reynolds number and $M$ is the Mach number.\n",
    "\n",
    "<b>source</b>: Raymer, D.P., <em>Aircraft Design: A Conceptual Approach,</em> 6th ed.; AIAA: Reston, VA. USA, 2018."
   ]
  },
  {
   "cell_type": "code",
   "execution_count": 24,
   "id": "2757e922",
   "metadata": {},
   "outputs": [],
   "source": [
    "wing_chord = 1\n",
    "wing_span = 12.8\n",
    "wing_area = wing_chord * wing_span\n",
    "AR = wing_span**2 / wing_area\n",
    "e = 1.78 * (1 - 0.045 * AR**0.68) - 0.64"
   ]
  },
  {
   "cell_type": "code",
   "execution_count": null,
   "id": "a1f70163",
   "metadata": {},
   "outputs": [],
   "source": [
    "#Induced drag\n",
    "mtow = 1500\n",
    "rho = 1.225 # kg/m3\n",
    "v_cruise = 207 # km/h\n",
    "v_cruise = v_cruise * 1000 / 3600 # m/s\n",
    "W = mtow * 9.81\n",
    "CL_cruise = W/(0.5*rho*v_cruise**2*wing_area)\n",
    "CD_i = CL_cruise**2/(np.pi*e*AR)"
   ]
  },
  {
   "cell_type": "code",
   "execution_count": 25,
   "id": "cf00d5a6",
   "metadata": {},
   "outputs": [],
   "source": [
    "# Parasite drag\n",
    "rho = 1.17\n",
    "g = 9.81\n",
    "K = 0.15\n",
    "CD_p = K * (2*mtow*g/wing_area/rho)**2 / v_cruise**4"
   ]
  },
  {
   "cell_type": "code",
   "execution_count": 26,
   "id": "63cf483e",
   "metadata": {},
   "outputs": [
    {
     "data": {
      "text/plain": [
       "0.06466498108077257"
      ]
     },
     "execution_count": 26,
     "metadata": {},
     "output_type": "execute_result"
    }
   ],
   "source": [
    "# Total drag\n",
    "CD = CD_i + CD_p\n",
    "CD"
   ]
  },
  {
   "cell_type": "markdown",
   "id": "b546ba90",
   "metadata": {},
   "source": [
    "### Range calculation"
   ]
  },
  {
   "cell_type": "code",
   "execution_count": 35,
   "id": "da009b5a",
   "metadata": {},
   "outputs": [],
   "source": [
    "# Battery energy density (Wh/kg)\n",
    "E_tilde = [200, 220, 240, 260, 280, 300]\n",
    "\n",
    "# Range\n",
    "Range = [50, 100, 150, 200, 250]\n",
    "\n",
    "# M_battery is assumed to be 30% of mtow\n",
    "m_batt = 450\n",
    "\n",
    "# Lift-to-drag ratio\n",
    "L_by_D = CL_cruise/CD\n",
    "\n",
    "mtow = calc_mtow(Range[0], E_tilde[0], m_batt, L_by_D)"
   ]
  },
  {
   "cell_type": "code",
   "execution_count": 36,
   "id": "8035d592",
   "metadata": {},
   "outputs": [
    {
     "data": {
      "text/plain": [
       "4349.172380841927"
      ]
     },
     "execution_count": 36,
     "metadata": {},
     "output_type": "execute_result"
    }
   ],
   "source": [
    "mtow"
   ]
  }
 ],
 "metadata": {
  "kernelspec": {
   "display_name": "Python 3 (ipykernel)",
   "language": "python",
   "name": "python3"
  },
  "language_info": {
   "codemirror_mode": {
    "name": "ipython",
    "version": 3
   },
   "file_extension": ".py",
   "mimetype": "text/x-python",
   "name": "python",
   "nbconvert_exporter": "python",
   "pygments_lexer": "ipython3",
   "version": "3.9.0"
  }
 },
 "nbformat": 4,
 "nbformat_minor": 5
}
