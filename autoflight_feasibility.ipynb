{
 "cells": [
  {
   "cell_type": "markdown",
   "id": "f8f592b5",
   "metadata": {},
   "source": [
    "# AutoFlight Prosperity I - Mission Feasibility\n",
    "\n",
    "Chinese air taxi startup Autoflight (https://www.autoflight.com/) announces what it claims is the world’s longest eVTOL flight to date. Its electric flying cab, ‘Prosperity I’, allegedly covered a distance of 250 kilometres without stopping to charge. The flying taxi is scheduled for certification in 2025. <br>\n",
    "\n",
    "The mission was recorded in the following youtube video: <br>\n",
    "https://www.youtube.com/watch?v=2Xf1_lTcAN0"
   ]
  },
  {
   "cell_type": "code",
   "execution_count": 11,
   "id": "72f1c53b",
   "metadata": {},
   "outputs": [],
   "source": [
    "import numpy as np\n",
    "import matplotlib.pyplot as plt\n",
    "import plotly.express as px\n",
    "import plotly.graph_objects as go\n",
    "from datetime import datetime as datetime"
   ]
  },
  {
   "cell_type": "code",
   "execution_count": 12,
   "id": "52f31563",
   "metadata": {},
   "outputs": [],
   "source": [
    "class mission_segment():\n",
    "    def __init__(self, name, t1, t2, dist, alt):\n",
    "        \"\"\"\n",
    "        name = segment name\n",
    "        t1 = start time (datetime object)\n",
    "        t2 = end time (datetime object)\n",
    "        dist = distance list ([start,end]) in km\n",
    "        alt = altitude list ([start,end]) in m\n",
    "        \"\"\"\n",
    "        self.name = name\n",
    "        self.t1 = t1\n",
    "        self.t2 = t2\n",
    "        self.dt = (t2 - t1).total_seconds()\n",
    "        self.dist = dist\n",
    "        self.alt = alt\n",
    "        self._calc_info()\n",
    "    def _calc_info(self):\n",
    "        if self.name == 'Takeoff':\n",
    "            # average vertical speed (m/s)\n",
    "            self.vy = (self.alt[1]-self.alt[0])/self.dt\n",
    "        elif self.name == 'Forward Transition':\n",
    "            # horizontal acceleration (m/s2) (manually input v_cruise=44)\n",
    "            v_cruise = 44\n",
    "            self.ax = (v_cruise)/self.dt\n",
    "        elif self.name == 'Climb':\n",
    "            # average vertical speed (m/s)\n",
    "            self.vy = (self.alt[1]-self.alt[0])/self.dt\n",
    "        elif self.name == 'Fixed Wing Cruise':\n",
    "            # cruise speed (km/h)\n",
    "            self.vx = (self.dist[1]-self.dist[0])/(self.dt/3600)\n",
    "        elif self.name == 'Descend':\n",
    "            # average vertical speed (m/s)\n",
    "            self.vy = (self.alt[1]-self.alt[0])/self.dt\n",
    "        elif self.name == 'Backward Transition':\n",
    "            # horizontal acceleration (m/s2) (manually input v_cruise=44)\n",
    "            v_cruise = 44\n",
    "            self.ax = (-v_cruise)/self.dt\n",
    "        elif self.name == 'Landing':\n",
    "            # average vertical speed (m/s)\n",
    "            self.vy = (self.alt[1]-self.alt[0])/self.dt"
   ]
  },
  {
   "cell_type": "markdown",
   "id": "9abb3f01",
   "metadata": {},
   "source": [
    "#### From the above youtube video, the following data were noted."
   ]
  },
  {
   "cell_type": "code",
   "execution_count": 13,
   "id": "a23df4c1",
   "metadata": {},
   "outputs": [],
   "source": [
    "mission_segment_list = []\n",
    "\n",
    "mission_segment_list.append(mission_segment(name = 'Takeoff',\n",
    "                                            t1   = datetime(2023,2,23,0,0,0),\n",
    "                                            t2   = datetime(2023,2,23,0,0,40),\n",
    "                                            dist = [0.0, 0.0032],\n",
    "                                            alt  = [0.0, 80.0]))\n",
    "\n",
    "mission_segment_list.append(mission_segment(name = 'Forward Transition',\n",
    "                                            t1   = datetime(2023,2,23,0,0,40),\n",
    "                                            t2   = datetime(2023,2,23,0,1,0),\n",
    "                                            dist = [0.0032, 0.488],\n",
    "                                            alt  = [80.0, 80.0]))\n",
    "\n",
    "mission_segment_list.append(mission_segment(name = 'Climb',\n",
    "                                            t1   = datetime(2023,2,23,0,1,0),\n",
    "                                            t2   = datetime(2023,2,23,0,2,30),\n",
    "                                            dist = [0.488, 4.0],\n",
    "                                            alt  = [80.0, 120.0]))\n",
    "\n",
    "mission_segment_list.append(mission_segment(name = 'Fixed Wing Cruise',\n",
    "                                            t1   = datetime(2023,2,23,0,2,30),\n",
    "                                            t2   = datetime(2023,2,23,1,34,0),\n",
    "                                            dist = [4.0, 245.7],\n",
    "                                            alt  = [120.0, 120.0]))\n",
    "\n",
    "mission_segment_list.append(mission_segment(name = 'Descend',\n",
    "                                            t1   = datetime(2023,2,23,1,34,0),\n",
    "                                            t2   = datetime(2023,2,23,1,35,27),\n",
    "                                            dist = [245.7, 249.4],\n",
    "                                            alt  = [120.0, 80.0]))\n",
    "\n",
    "mission_segment_list.append(mission_segment(name = 'Backward Transition',\n",
    "                                            t1   = datetime(2023,2,23,1,35,38),\n",
    "                                            t2   = datetime(2023,2,23,1,36,13),\n",
    "                                            dist = [249.4, 250.2],\n",
    "                                            alt  = [80.0, 80.0]))\n",
    "\n",
    "mission_segment_list.append(mission_segment(name = 'Landing',\n",
    "                                            t1   = datetime(2023,2,23,1,36,13),\n",
    "                                            t2   = datetime(2023,2,23,1,37,13),\n",
    "                                            dist = [250.2, 250.3],\n",
    "                                            alt  = [80.0, 0.0]))"
   ]
  },
  {
   "cell_type": "markdown",
   "id": "baebf4a3",
   "metadata": {},
   "source": [
    "#### The above mission is visualized as follows."
   ]
  },
  {
   "cell_type": "code",
   "execution_count": 14,
   "id": "a6c88cf8",
   "metadata": {},
   "outputs": [
    {
     "data": {
      "application/vnd.plotly.v1+json": {
       "config": {
        "plotlyServerURL": "https://plot.ly"
       },
       "data": [
        {
         "hovertemplate": "<extra></extra>dist = %{x} km<br>alt   = %{y}.0 m",
         "line": {
          "color": "blue"
         },
         "mode": "lines+markers",
         "name": "Takeoff",
         "text": "Takeoff",
         "type": "scatter",
         "x": [
          0,
          0.0032
         ],
         "y": [
          0,
          80
         ]
        },
        {
         "hoverinfo": "none",
         "mode": "text",
         "text": "<b>Takeoff</b>",
         "type": "scatter",
         "x": [
          10.0016
         ],
         "y": [
          40
         ]
        },
        {
         "hovertemplate": "<extra></extra>dist = %{x} km<br>alt   = %{y}.0 m",
         "line": {
          "color": "blue"
         },
         "mode": "lines+markers",
         "name": "Forward Transition",
         "text": "Forward Transition",
         "type": "scatter",
         "x": [
          0.0032,
          0.488
         ],
         "y": [
          80,
          80
         ]
        },
        {
         "hoverinfo": "none",
         "mode": "text",
         "text": "<b>Forward Transition</b>",
         "type": "scatter",
         "x": [
          23.2456
         ],
         "y": [
          80
         ]
        },
        {
         "hovertemplate": "<extra></extra>dist = %{x} km<br>alt   = %{y}.0 m",
         "line": {
          "color": "blue"
         },
         "mode": "lines+markers",
         "name": "Climb",
         "text": "Climb",
         "type": "scatter",
         "x": [
          0.488,
          4
         ],
         "y": [
          80,
          120
         ]
        },
        {
         "hoverinfo": "none",
         "mode": "text",
         "text": "<b>Climb</b>",
         "type": "scatter",
         "x": [
          11.244
         ],
         "y": [
          100
         ]
        },
        {
         "hovertemplate": "<extra></extra>dist = %{x} km<br>alt   = %{y}.0 m",
         "line": {
          "color": "blue"
         },
         "mode": "lines+markers",
         "name": "Fixed Wing Cruise",
         "text": "Fixed Wing Cruise",
         "type": "scatter",
         "x": [
          4,
          245.7
         ],
         "y": [
          120,
          120
         ]
        },
        {
         "hoverinfo": "none",
         "mode": "text",
         "text": "<b>Fixed Wing Cruise</b>",
         "type": "scatter",
         "x": [
          124.85
         ],
         "y": [
          125
         ]
        },
        {
         "hovertemplate": "<extra></extra>dist = %{x} km<br>alt   = %{y}.0 m",
         "line": {
          "color": "blue"
         },
         "mode": "lines+markers",
         "name": "Descend",
         "text": "Descend",
         "type": "scatter",
         "x": [
          245.7,
          249.4
         ],
         "y": [
          120,
          80
         ]
        },
        {
         "hoverinfo": "none",
         "mode": "text",
         "text": "<b>Descend</b>",
         "type": "scatter",
         "x": [
          234.55
         ],
         "y": [
          100
         ]
        },
        {
         "hovertemplate": "<extra></extra>dist = %{x} km<br>alt   = %{y}.0 m",
         "line": {
          "color": "blue"
         },
         "mode": "lines+markers",
         "name": "Backward Transition",
         "text": "Backward Transition",
         "type": "scatter",
         "x": [
          249.4,
          250.2
         ],
         "y": [
          80,
          80
         ]
        },
        {
         "hoverinfo": "none",
         "mode": "text",
         "text": "<b>Backward Transition</b>",
         "type": "scatter",
         "x": [
          225.8
         ],
         "y": [
          80
         ]
        },
        {
         "hovertemplate": "<extra></extra>dist = %{x} km<br>alt   = %{y}.0 m",
         "line": {
          "color": "blue"
         },
         "mode": "lines+markers",
         "name": "Landing",
         "text": "Landing",
         "type": "scatter",
         "x": [
          250.2,
          250.3
         ],
         "y": [
          80,
          0
         ]
        },
        {
         "hoverinfo": "none",
         "mode": "text",
         "text": "<b>Landing</b>",
         "type": "scatter",
         "x": [
          239.25
         ],
         "y": [
          40
         ]
        },
        {
         "hoverinfo": "none",
         "mode": "text",
         "text": "2.0 m/s<br>vertical climb<br>for 40.0 s",
         "type": "scatter",
         "x": [
          15.0016
         ],
         "y": [
          25
         ]
        },
        {
         "hoverinfo": "none",
         "mode": "text",
         "text": "2.20 m/s2<br>horizontal acceleration<br>for 20.0 s",
         "type": "scatter",
         "x": [
          75.2456
         ],
         "y": [
          80
         ]
        },
        {
         "hoverinfo": "none",
         "mode": "text",
         "text": "Vy = 0.44 m/s<br>for 90.0 s",
         "type": "scatter",
         "x": [
          37.244
         ],
         "y": [
          100
         ]
        },
        {
         "hoverinfo": "none",
         "mode": "text",
         "text": "241.7 km cruise at 158.49 km/h<br>for 1.525 hours",
         "type": "scatter",
         "x": [
          124.85
         ],
         "y": [
          110
         ]
        },
        {
         "hoverinfo": "none",
         "mode": "text",
         "text": "Vy = -0.46 m/s<br>for 87.0 s",
         "type": "scatter",
         "x": [
          207.55
         ],
         "y": [
          100
         ]
        },
        {
         "hoverinfo": "none",
         "mode": "text",
         "text": "-1.26 m/s2<br>horizontal acceleration<br>for 35.0 s",
         "type": "scatter",
         "x": [
          174.8
         ],
         "y": [
          80
         ]
        },
        {
         "hoverinfo": "none",
         "mode": "text",
         "text": "-1.33 m/s<br>vertical descend<br>for 60.0 s",
         "type": "scatter",
         "x": [
          230.25
         ],
         "y": [
          25
         ]
        },
        {
         "hoverinfo": "none",
         "mode": "text",
         "text": "<b>Mission Summary</b><br>Date: Feb 23, 2023<br>Duration: 1.0hour, 37.0 mins, 13.0 secs",
         "type": "scatter",
         "x": [
          124.85
         ],
         "y": [
          40
         ]
        }
       ],
       "layout": {
        "showlegend": false,
        "template": {
         "data": {
          "bar": [
           {
            "error_x": {
             "color": "#2a3f5f"
            },
            "error_y": {
             "color": "#2a3f5f"
            },
            "marker": {
             "line": {
              "color": "#E5ECF6",
              "width": 0.5
             },
             "pattern": {
              "fillmode": "overlay",
              "size": 10,
              "solidity": 0.2
             }
            },
            "type": "bar"
           }
          ],
          "barpolar": [
           {
            "marker": {
             "line": {
              "color": "#E5ECF6",
              "width": 0.5
             },
             "pattern": {
              "fillmode": "overlay",
              "size": 10,
              "solidity": 0.2
             }
            },
            "type": "barpolar"
           }
          ],
          "carpet": [
           {
            "aaxis": {
             "endlinecolor": "#2a3f5f",
             "gridcolor": "white",
             "linecolor": "white",
             "minorgridcolor": "white",
             "startlinecolor": "#2a3f5f"
            },
            "baxis": {
             "endlinecolor": "#2a3f5f",
             "gridcolor": "white",
             "linecolor": "white",
             "minorgridcolor": "white",
             "startlinecolor": "#2a3f5f"
            },
            "type": "carpet"
           }
          ],
          "choropleth": [
           {
            "colorbar": {
             "outlinewidth": 0,
             "ticks": ""
            },
            "type": "choropleth"
           }
          ],
          "contour": [
           {
            "colorbar": {
             "outlinewidth": 0,
             "ticks": ""
            },
            "colorscale": [
             [
              0,
              "#0d0887"
             ],
             [
              0.1111111111111111,
              "#46039f"
             ],
             [
              0.2222222222222222,
              "#7201a8"
             ],
             [
              0.3333333333333333,
              "#9c179e"
             ],
             [
              0.4444444444444444,
              "#bd3786"
             ],
             [
              0.5555555555555556,
              "#d8576b"
             ],
             [
              0.6666666666666666,
              "#ed7953"
             ],
             [
              0.7777777777777778,
              "#fb9f3a"
             ],
             [
              0.8888888888888888,
              "#fdca26"
             ],
             [
              1,
              "#f0f921"
             ]
            ],
            "type": "contour"
           }
          ],
          "contourcarpet": [
           {
            "colorbar": {
             "outlinewidth": 0,
             "ticks": ""
            },
            "type": "contourcarpet"
           }
          ],
          "heatmap": [
           {
            "colorbar": {
             "outlinewidth": 0,
             "ticks": ""
            },
            "colorscale": [
             [
              0,
              "#0d0887"
             ],
             [
              0.1111111111111111,
              "#46039f"
             ],
             [
              0.2222222222222222,
              "#7201a8"
             ],
             [
              0.3333333333333333,
              "#9c179e"
             ],
             [
              0.4444444444444444,
              "#bd3786"
             ],
             [
              0.5555555555555556,
              "#d8576b"
             ],
             [
              0.6666666666666666,
              "#ed7953"
             ],
             [
              0.7777777777777778,
              "#fb9f3a"
             ],
             [
              0.8888888888888888,
              "#fdca26"
             ],
             [
              1,
              "#f0f921"
             ]
            ],
            "type": "heatmap"
           }
          ],
          "heatmapgl": [
           {
            "colorbar": {
             "outlinewidth": 0,
             "ticks": ""
            },
            "colorscale": [
             [
              0,
              "#0d0887"
             ],
             [
              0.1111111111111111,
              "#46039f"
             ],
             [
              0.2222222222222222,
              "#7201a8"
             ],
             [
              0.3333333333333333,
              "#9c179e"
             ],
             [
              0.4444444444444444,
              "#bd3786"
             ],
             [
              0.5555555555555556,
              "#d8576b"
             ],
             [
              0.6666666666666666,
              "#ed7953"
             ],
             [
              0.7777777777777778,
              "#fb9f3a"
             ],
             [
              0.8888888888888888,
              "#fdca26"
             ],
             [
              1,
              "#f0f921"
             ]
            ],
            "type": "heatmapgl"
           }
          ],
          "histogram": [
           {
            "marker": {
             "pattern": {
              "fillmode": "overlay",
              "size": 10,
              "solidity": 0.2
             }
            },
            "type": "histogram"
           }
          ],
          "histogram2d": [
           {
            "colorbar": {
             "outlinewidth": 0,
             "ticks": ""
            },
            "colorscale": [
             [
              0,
              "#0d0887"
             ],
             [
              0.1111111111111111,
              "#46039f"
             ],
             [
              0.2222222222222222,
              "#7201a8"
             ],
             [
              0.3333333333333333,
              "#9c179e"
             ],
             [
              0.4444444444444444,
              "#bd3786"
             ],
             [
              0.5555555555555556,
              "#d8576b"
             ],
             [
              0.6666666666666666,
              "#ed7953"
             ],
             [
              0.7777777777777778,
              "#fb9f3a"
             ],
             [
              0.8888888888888888,
              "#fdca26"
             ],
             [
              1,
              "#f0f921"
             ]
            ],
            "type": "histogram2d"
           }
          ],
          "histogram2dcontour": [
           {
            "colorbar": {
             "outlinewidth": 0,
             "ticks": ""
            },
            "colorscale": [
             [
              0,
              "#0d0887"
             ],
             [
              0.1111111111111111,
              "#46039f"
             ],
             [
              0.2222222222222222,
              "#7201a8"
             ],
             [
              0.3333333333333333,
              "#9c179e"
             ],
             [
              0.4444444444444444,
              "#bd3786"
             ],
             [
              0.5555555555555556,
              "#d8576b"
             ],
             [
              0.6666666666666666,
              "#ed7953"
             ],
             [
              0.7777777777777778,
              "#fb9f3a"
             ],
             [
              0.8888888888888888,
              "#fdca26"
             ],
             [
              1,
              "#f0f921"
             ]
            ],
            "type": "histogram2dcontour"
           }
          ],
          "mesh3d": [
           {
            "colorbar": {
             "outlinewidth": 0,
             "ticks": ""
            },
            "type": "mesh3d"
           }
          ],
          "parcoords": [
           {
            "line": {
             "colorbar": {
              "outlinewidth": 0,
              "ticks": ""
             }
            },
            "type": "parcoords"
           }
          ],
          "pie": [
           {
            "automargin": true,
            "type": "pie"
           }
          ],
          "scatter": [
           {
            "fillpattern": {
             "fillmode": "overlay",
             "size": 10,
             "solidity": 0.2
            },
            "type": "scatter"
           }
          ],
          "scatter3d": [
           {
            "line": {
             "colorbar": {
              "outlinewidth": 0,
              "ticks": ""
             }
            },
            "marker": {
             "colorbar": {
              "outlinewidth": 0,
              "ticks": ""
             }
            },
            "type": "scatter3d"
           }
          ],
          "scattercarpet": [
           {
            "marker": {
             "colorbar": {
              "outlinewidth": 0,
              "ticks": ""
             }
            },
            "type": "scattercarpet"
           }
          ],
          "scattergeo": [
           {
            "marker": {
             "colorbar": {
              "outlinewidth": 0,
              "ticks": ""
             }
            },
            "type": "scattergeo"
           }
          ],
          "scattergl": [
           {
            "marker": {
             "colorbar": {
              "outlinewidth": 0,
              "ticks": ""
             }
            },
            "type": "scattergl"
           }
          ],
          "scattermapbox": [
           {
            "marker": {
             "colorbar": {
              "outlinewidth": 0,
              "ticks": ""
             }
            },
            "type": "scattermapbox"
           }
          ],
          "scatterpolar": [
           {
            "marker": {
             "colorbar": {
              "outlinewidth": 0,
              "ticks": ""
             }
            },
            "type": "scatterpolar"
           }
          ],
          "scatterpolargl": [
           {
            "marker": {
             "colorbar": {
              "outlinewidth": 0,
              "ticks": ""
             }
            },
            "type": "scatterpolargl"
           }
          ],
          "scatterternary": [
           {
            "marker": {
             "colorbar": {
              "outlinewidth": 0,
              "ticks": ""
             }
            },
            "type": "scatterternary"
           }
          ],
          "surface": [
           {
            "colorbar": {
             "outlinewidth": 0,
             "ticks": ""
            },
            "colorscale": [
             [
              0,
              "#0d0887"
             ],
             [
              0.1111111111111111,
              "#46039f"
             ],
             [
              0.2222222222222222,
              "#7201a8"
             ],
             [
              0.3333333333333333,
              "#9c179e"
             ],
             [
              0.4444444444444444,
              "#bd3786"
             ],
             [
              0.5555555555555556,
              "#d8576b"
             ],
             [
              0.6666666666666666,
              "#ed7953"
             ],
             [
              0.7777777777777778,
              "#fb9f3a"
             ],
             [
              0.8888888888888888,
              "#fdca26"
             ],
             [
              1,
              "#f0f921"
             ]
            ],
            "type": "surface"
           }
          ],
          "table": [
           {
            "cells": {
             "fill": {
              "color": "#EBF0F8"
             },
             "line": {
              "color": "white"
             }
            },
            "header": {
             "fill": {
              "color": "#C8D4E3"
             },
             "line": {
              "color": "white"
             }
            },
            "type": "table"
           }
          ]
         },
         "layout": {
          "annotationdefaults": {
           "arrowcolor": "#2a3f5f",
           "arrowhead": 0,
           "arrowwidth": 1
          },
          "autotypenumbers": "strict",
          "coloraxis": {
           "colorbar": {
            "outlinewidth": 0,
            "ticks": ""
           }
          },
          "colorscale": {
           "diverging": [
            [
             0,
             "#8e0152"
            ],
            [
             0.1,
             "#c51b7d"
            ],
            [
             0.2,
             "#de77ae"
            ],
            [
             0.3,
             "#f1b6da"
            ],
            [
             0.4,
             "#fde0ef"
            ],
            [
             0.5,
             "#f7f7f7"
            ],
            [
             0.6,
             "#e6f5d0"
            ],
            [
             0.7,
             "#b8e186"
            ],
            [
             0.8,
             "#7fbc41"
            ],
            [
             0.9,
             "#4d9221"
            ],
            [
             1,
             "#276419"
            ]
           ],
           "sequential": [
            [
             0,
             "#0d0887"
            ],
            [
             0.1111111111111111,
             "#46039f"
            ],
            [
             0.2222222222222222,
             "#7201a8"
            ],
            [
             0.3333333333333333,
             "#9c179e"
            ],
            [
             0.4444444444444444,
             "#bd3786"
            ],
            [
             0.5555555555555556,
             "#d8576b"
            ],
            [
             0.6666666666666666,
             "#ed7953"
            ],
            [
             0.7777777777777778,
             "#fb9f3a"
            ],
            [
             0.8888888888888888,
             "#fdca26"
            ],
            [
             1,
             "#f0f921"
            ]
           ],
           "sequentialminus": [
            [
             0,
             "#0d0887"
            ],
            [
             0.1111111111111111,
             "#46039f"
            ],
            [
             0.2222222222222222,
             "#7201a8"
            ],
            [
             0.3333333333333333,
             "#9c179e"
            ],
            [
             0.4444444444444444,
             "#bd3786"
            ],
            [
             0.5555555555555556,
             "#d8576b"
            ],
            [
             0.6666666666666666,
             "#ed7953"
            ],
            [
             0.7777777777777778,
             "#fb9f3a"
            ],
            [
             0.8888888888888888,
             "#fdca26"
            ],
            [
             1,
             "#f0f921"
            ]
           ]
          },
          "colorway": [
           "#636efa",
           "#EF553B",
           "#00cc96",
           "#ab63fa",
           "#FFA15A",
           "#19d3f3",
           "#FF6692",
           "#B6E880",
           "#FF97FF",
           "#FECB52"
          ],
          "font": {
           "color": "#2a3f5f"
          },
          "geo": {
           "bgcolor": "white",
           "lakecolor": "white",
           "landcolor": "#E5ECF6",
           "showlakes": true,
           "showland": true,
           "subunitcolor": "white"
          },
          "hoverlabel": {
           "align": "left"
          },
          "hovermode": "closest",
          "mapbox": {
           "style": "light"
          },
          "paper_bgcolor": "white",
          "plot_bgcolor": "#E5ECF6",
          "polar": {
           "angularaxis": {
            "gridcolor": "white",
            "linecolor": "white",
            "ticks": ""
           },
           "bgcolor": "#E5ECF6",
           "radialaxis": {
            "gridcolor": "white",
            "linecolor": "white",
            "ticks": ""
           }
          },
          "scene": {
           "xaxis": {
            "backgroundcolor": "#E5ECF6",
            "gridcolor": "white",
            "gridwidth": 2,
            "linecolor": "white",
            "showbackground": true,
            "ticks": "",
            "zerolinecolor": "white"
           },
           "yaxis": {
            "backgroundcolor": "#E5ECF6",
            "gridcolor": "white",
            "gridwidth": 2,
            "linecolor": "white",
            "showbackground": true,
            "ticks": "",
            "zerolinecolor": "white"
           },
           "zaxis": {
            "backgroundcolor": "#E5ECF6",
            "gridcolor": "white",
            "gridwidth": 2,
            "linecolor": "white",
            "showbackground": true,
            "ticks": "",
            "zerolinecolor": "white"
           }
          },
          "shapedefaults": {
           "line": {
            "color": "#2a3f5f"
           }
          },
          "ternary": {
           "aaxis": {
            "gridcolor": "white",
            "linecolor": "white",
            "ticks": ""
           },
           "baxis": {
            "gridcolor": "white",
            "linecolor": "white",
            "ticks": ""
           },
           "bgcolor": "#E5ECF6",
           "caxis": {
            "gridcolor": "white",
            "linecolor": "white",
            "ticks": ""
           }
          },
          "title": {
           "x": 0.05
          },
          "xaxis": {
           "automargin": true,
           "gridcolor": "white",
           "linecolor": "white",
           "ticks": "",
           "title": {
            "standoff": 15
           },
           "zerolinecolor": "white",
           "zerolinewidth": 2
          },
          "yaxis": {
           "automargin": true,
           "gridcolor": "white",
           "linecolor": "white",
           "ticks": "",
           "title": {
            "standoff": 15
           },
           "zerolinecolor": "white",
           "zerolinewidth": 2
          }
         }
        },
        "title": {
         "text": "Simplified Mission Profile",
         "x": 0.5
        },
        "xaxis": {
         "range": [
          -11,
          261
         ],
         "title": {
          "text": "Distance [km]"
         }
        },
        "yaxis": {
         "range": [
          -10,
          140
         ],
         "title": {
          "text": "Altitude [m]"
         }
        }
       }
      },
      "text/html": [
       "<div>                            <div id=\"8baa1c6d-a613-4db5-8847-9775e9e2a0e5\" class=\"plotly-graph-div\" style=\"height:525px; width:100%;\"></div>            <script type=\"text/javascript\">                require([\"plotly\"], function(Plotly) {                    window.PLOTLYENV=window.PLOTLYENV || {};                                    if (document.getElementById(\"8baa1c6d-a613-4db5-8847-9775e9e2a0e5\")) {                    Plotly.newPlot(                        \"8baa1c6d-a613-4db5-8847-9775e9e2a0e5\",                        [{\"hovertemplate\":\"<extra></extra>dist = %{x} km<br>alt   = %{y}.0 m\",\"line\":{\"color\":\"blue\"},\"mode\":\"lines+markers\",\"name\":\"Takeoff\",\"text\":\"Takeoff\",\"x\":[0.0,0.0032],\"y\":[0.0,80.0],\"type\":\"scatter\"},{\"hoverinfo\":\"none\",\"mode\":\"text\",\"text\":\"<b>Takeoff</b>\",\"x\":[10.0016],\"y\":[40.0],\"type\":\"scatter\"},{\"hovertemplate\":\"<extra></extra>dist = %{x} km<br>alt   = %{y}.0 m\",\"line\":{\"color\":\"blue\"},\"mode\":\"lines+markers\",\"name\":\"Forward Transition\",\"text\":\"Forward Transition\",\"x\":[0.0032,0.488],\"y\":[80.0,80.0],\"type\":\"scatter\"},{\"hoverinfo\":\"none\",\"mode\":\"text\",\"text\":\"<b>Forward Transition</b>\",\"x\":[23.2456],\"y\":[80.0],\"type\":\"scatter\"},{\"hovertemplate\":\"<extra></extra>dist = %{x} km<br>alt   = %{y}.0 m\",\"line\":{\"color\":\"blue\"},\"mode\":\"lines+markers\",\"name\":\"Climb\",\"text\":\"Climb\",\"x\":[0.488,4.0],\"y\":[80.0,120.0],\"type\":\"scatter\"},{\"hoverinfo\":\"none\",\"mode\":\"text\",\"text\":\"<b>Climb</b>\",\"x\":[11.244],\"y\":[100.0],\"type\":\"scatter\"},{\"hovertemplate\":\"<extra></extra>dist = %{x} km<br>alt   = %{y}.0 m\",\"line\":{\"color\":\"blue\"},\"mode\":\"lines+markers\",\"name\":\"Fixed Wing Cruise\",\"text\":\"Fixed Wing Cruise\",\"x\":[4.0,245.7],\"y\":[120.0,120.0],\"type\":\"scatter\"},{\"hoverinfo\":\"none\",\"mode\":\"text\",\"text\":\"<b>Fixed Wing Cruise</b>\",\"x\":[124.85],\"y\":[125.0],\"type\":\"scatter\"},{\"hovertemplate\":\"<extra></extra>dist = %{x} km<br>alt   = %{y}.0 m\",\"line\":{\"color\":\"blue\"},\"mode\":\"lines+markers\",\"name\":\"Descend\",\"text\":\"Descend\",\"x\":[245.7,249.4],\"y\":[120.0,80.0],\"type\":\"scatter\"},{\"hoverinfo\":\"none\",\"mode\":\"text\",\"text\":\"<b>Descend</b>\",\"x\":[234.55],\"y\":[100.0],\"type\":\"scatter\"},{\"hovertemplate\":\"<extra></extra>dist = %{x} km<br>alt   = %{y}.0 m\",\"line\":{\"color\":\"blue\"},\"mode\":\"lines+markers\",\"name\":\"Backward Transition\",\"text\":\"Backward Transition\",\"x\":[249.4,250.2],\"y\":[80.0,80.0],\"type\":\"scatter\"},{\"hoverinfo\":\"none\",\"mode\":\"text\",\"text\":\"<b>Backward Transition</b>\",\"x\":[225.8],\"y\":[80.0],\"type\":\"scatter\"},{\"hovertemplate\":\"<extra></extra>dist = %{x} km<br>alt   = %{y}.0 m\",\"line\":{\"color\":\"blue\"},\"mode\":\"lines+markers\",\"name\":\"Landing\",\"text\":\"Landing\",\"x\":[250.2,250.3],\"y\":[80.0,0.0],\"type\":\"scatter\"},{\"hoverinfo\":\"none\",\"mode\":\"text\",\"text\":\"<b>Landing</b>\",\"x\":[239.25],\"y\":[40.0],\"type\":\"scatter\"},{\"hoverinfo\":\"none\",\"mode\":\"text\",\"text\":\"2.0 m/s<br>vertical climb<br>for 40.0 s\",\"x\":[15.0016],\"y\":[25.0],\"type\":\"scatter\"},{\"hoverinfo\":\"none\",\"mode\":\"text\",\"text\":\"2.20 m/s2<br>horizontal acceleration<br>for 20.0 s\",\"x\":[75.2456],\"y\":[80.0],\"type\":\"scatter\"},{\"hoverinfo\":\"none\",\"mode\":\"text\",\"text\":\"Vy = 0.44 m/s<br>for 90.0 s\",\"x\":[37.244],\"y\":[100.0],\"type\":\"scatter\"},{\"hoverinfo\":\"none\",\"mode\":\"text\",\"text\":\"241.7 km cruise at 158.49 km/h<br>for 1.525 hours\",\"x\":[124.85],\"y\":[110.0],\"type\":\"scatter\"},{\"hoverinfo\":\"none\",\"mode\":\"text\",\"text\":\"Vy = -0.46 m/s<br>for 87.0 s\",\"x\":[207.55],\"y\":[100.0],\"type\":\"scatter\"},{\"hoverinfo\":\"none\",\"mode\":\"text\",\"text\":\"-1.26 m/s2<br>horizontal acceleration<br>for 35.0 s\",\"x\":[174.8],\"y\":[80.0],\"type\":\"scatter\"},{\"hoverinfo\":\"none\",\"mode\":\"text\",\"text\":\"-1.33 m/s<br>vertical descend<br>for 60.0 s\",\"x\":[230.25],\"y\":[25.0],\"type\":\"scatter\"},{\"hoverinfo\":\"none\",\"mode\":\"text\",\"text\":\"<b>Mission Summary</b><br>Date: Feb 23, 2023<br>Duration: 1.0hour, 37.0 mins, 13.0 secs\",\"x\":[124.85],\"y\":[40.0],\"type\":\"scatter\"}],                        {\"title\":{\"text\":\"Simplified Mission Profile\",\"x\":0.5},\"xaxis\":{\"range\":[-11,261],\"title\":{\"text\":\"Distance [km]\"}},\"yaxis\":{\"range\":[-10,140],\"title\":{\"text\":\"Altitude [m]\"}},\"template\":{\"data\":{\"histogram2dcontour\":[{\"type\":\"histogram2dcontour\",\"colorbar\":{\"outlinewidth\":0,\"ticks\":\"\"},\"colorscale\":[[0.0,\"#0d0887\"],[0.1111111111111111,\"#46039f\"],[0.2222222222222222,\"#7201a8\"],[0.3333333333333333,\"#9c179e\"],[0.4444444444444444,\"#bd3786\"],[0.5555555555555556,\"#d8576b\"],[0.6666666666666666,\"#ed7953\"],[0.7777777777777778,\"#fb9f3a\"],[0.8888888888888888,\"#fdca26\"],[1.0,\"#f0f921\"]]}],\"choropleth\":[{\"type\":\"choropleth\",\"colorbar\":{\"outlinewidth\":0,\"ticks\":\"\"}}],\"histogram2d\":[{\"type\":\"histogram2d\",\"colorbar\":{\"outlinewidth\":0,\"ticks\":\"\"},\"colorscale\":[[0.0,\"#0d0887\"],[0.1111111111111111,\"#46039f\"],[0.2222222222222222,\"#7201a8\"],[0.3333333333333333,\"#9c179e\"],[0.4444444444444444,\"#bd3786\"],[0.5555555555555556,\"#d8576b\"],[0.6666666666666666,\"#ed7953\"],[0.7777777777777778,\"#fb9f3a\"],[0.8888888888888888,\"#fdca26\"],[1.0,\"#f0f921\"]]}],\"heatmap\":[{\"type\":\"heatmap\",\"colorbar\":{\"outlinewidth\":0,\"ticks\":\"\"},\"colorscale\":[[0.0,\"#0d0887\"],[0.1111111111111111,\"#46039f\"],[0.2222222222222222,\"#7201a8\"],[0.3333333333333333,\"#9c179e\"],[0.4444444444444444,\"#bd3786\"],[0.5555555555555556,\"#d8576b\"],[0.6666666666666666,\"#ed7953\"],[0.7777777777777778,\"#fb9f3a\"],[0.8888888888888888,\"#fdca26\"],[1.0,\"#f0f921\"]]}],\"heatmapgl\":[{\"type\":\"heatmapgl\",\"colorbar\":{\"outlinewidth\":0,\"ticks\":\"\"},\"colorscale\":[[0.0,\"#0d0887\"],[0.1111111111111111,\"#46039f\"],[0.2222222222222222,\"#7201a8\"],[0.3333333333333333,\"#9c179e\"],[0.4444444444444444,\"#bd3786\"],[0.5555555555555556,\"#d8576b\"],[0.6666666666666666,\"#ed7953\"],[0.7777777777777778,\"#fb9f3a\"],[0.8888888888888888,\"#fdca26\"],[1.0,\"#f0f921\"]]}],\"contourcarpet\":[{\"type\":\"contourcarpet\",\"colorbar\":{\"outlinewidth\":0,\"ticks\":\"\"}}],\"contour\":[{\"type\":\"contour\",\"colorbar\":{\"outlinewidth\":0,\"ticks\":\"\"},\"colorscale\":[[0.0,\"#0d0887\"],[0.1111111111111111,\"#46039f\"],[0.2222222222222222,\"#7201a8\"],[0.3333333333333333,\"#9c179e\"],[0.4444444444444444,\"#bd3786\"],[0.5555555555555556,\"#d8576b\"],[0.6666666666666666,\"#ed7953\"],[0.7777777777777778,\"#fb9f3a\"],[0.8888888888888888,\"#fdca26\"],[1.0,\"#f0f921\"]]}],\"surface\":[{\"type\":\"surface\",\"colorbar\":{\"outlinewidth\":0,\"ticks\":\"\"},\"colorscale\":[[0.0,\"#0d0887\"],[0.1111111111111111,\"#46039f\"],[0.2222222222222222,\"#7201a8\"],[0.3333333333333333,\"#9c179e\"],[0.4444444444444444,\"#bd3786\"],[0.5555555555555556,\"#d8576b\"],[0.6666666666666666,\"#ed7953\"],[0.7777777777777778,\"#fb9f3a\"],[0.8888888888888888,\"#fdca26\"],[1.0,\"#f0f921\"]]}],\"mesh3d\":[{\"type\":\"mesh3d\",\"colorbar\":{\"outlinewidth\":0,\"ticks\":\"\"}}],\"scatter\":[{\"fillpattern\":{\"fillmode\":\"overlay\",\"size\":10,\"solidity\":0.2},\"type\":\"scatter\"}],\"parcoords\":[{\"type\":\"parcoords\",\"line\":{\"colorbar\":{\"outlinewidth\":0,\"ticks\":\"\"}}}],\"scatterpolargl\":[{\"type\":\"scatterpolargl\",\"marker\":{\"colorbar\":{\"outlinewidth\":0,\"ticks\":\"\"}}}],\"bar\":[{\"error_x\":{\"color\":\"#2a3f5f\"},\"error_y\":{\"color\":\"#2a3f5f\"},\"marker\":{\"line\":{\"color\":\"#E5ECF6\",\"width\":0.5},\"pattern\":{\"fillmode\":\"overlay\",\"size\":10,\"solidity\":0.2}},\"type\":\"bar\"}],\"scattergeo\":[{\"type\":\"scattergeo\",\"marker\":{\"colorbar\":{\"outlinewidth\":0,\"ticks\":\"\"}}}],\"scatterpolar\":[{\"type\":\"scatterpolar\",\"marker\":{\"colorbar\":{\"outlinewidth\":0,\"ticks\":\"\"}}}],\"histogram\":[{\"marker\":{\"pattern\":{\"fillmode\":\"overlay\",\"size\":10,\"solidity\":0.2}},\"type\":\"histogram\"}],\"scattergl\":[{\"type\":\"scattergl\",\"marker\":{\"colorbar\":{\"outlinewidth\":0,\"ticks\":\"\"}}}],\"scatter3d\":[{\"type\":\"scatter3d\",\"line\":{\"colorbar\":{\"outlinewidth\":0,\"ticks\":\"\"}},\"marker\":{\"colorbar\":{\"outlinewidth\":0,\"ticks\":\"\"}}}],\"scattermapbox\":[{\"type\":\"scattermapbox\",\"marker\":{\"colorbar\":{\"outlinewidth\":0,\"ticks\":\"\"}}}],\"scatterternary\":[{\"type\":\"scatterternary\",\"marker\":{\"colorbar\":{\"outlinewidth\":0,\"ticks\":\"\"}}}],\"scattercarpet\":[{\"type\":\"scattercarpet\",\"marker\":{\"colorbar\":{\"outlinewidth\":0,\"ticks\":\"\"}}}],\"carpet\":[{\"aaxis\":{\"endlinecolor\":\"#2a3f5f\",\"gridcolor\":\"white\",\"linecolor\":\"white\",\"minorgridcolor\":\"white\",\"startlinecolor\":\"#2a3f5f\"},\"baxis\":{\"endlinecolor\":\"#2a3f5f\",\"gridcolor\":\"white\",\"linecolor\":\"white\",\"minorgridcolor\":\"white\",\"startlinecolor\":\"#2a3f5f\"},\"type\":\"carpet\"}],\"table\":[{\"cells\":{\"fill\":{\"color\":\"#EBF0F8\"},\"line\":{\"color\":\"white\"}},\"header\":{\"fill\":{\"color\":\"#C8D4E3\"},\"line\":{\"color\":\"white\"}},\"type\":\"table\"}],\"barpolar\":[{\"marker\":{\"line\":{\"color\":\"#E5ECF6\",\"width\":0.5},\"pattern\":{\"fillmode\":\"overlay\",\"size\":10,\"solidity\":0.2}},\"type\":\"barpolar\"}],\"pie\":[{\"automargin\":true,\"type\":\"pie\"}]},\"layout\":{\"autotypenumbers\":\"strict\",\"colorway\":[\"#636efa\",\"#EF553B\",\"#00cc96\",\"#ab63fa\",\"#FFA15A\",\"#19d3f3\",\"#FF6692\",\"#B6E880\",\"#FF97FF\",\"#FECB52\"],\"font\":{\"color\":\"#2a3f5f\"},\"hovermode\":\"closest\",\"hoverlabel\":{\"align\":\"left\"},\"paper_bgcolor\":\"white\",\"plot_bgcolor\":\"#E5ECF6\",\"polar\":{\"bgcolor\":\"#E5ECF6\",\"angularaxis\":{\"gridcolor\":\"white\",\"linecolor\":\"white\",\"ticks\":\"\"},\"radialaxis\":{\"gridcolor\":\"white\",\"linecolor\":\"white\",\"ticks\":\"\"}},\"ternary\":{\"bgcolor\":\"#E5ECF6\",\"aaxis\":{\"gridcolor\":\"white\",\"linecolor\":\"white\",\"ticks\":\"\"},\"baxis\":{\"gridcolor\":\"white\",\"linecolor\":\"white\",\"ticks\":\"\"},\"caxis\":{\"gridcolor\":\"white\",\"linecolor\":\"white\",\"ticks\":\"\"}},\"coloraxis\":{\"colorbar\":{\"outlinewidth\":0,\"ticks\":\"\"}},\"colorscale\":{\"sequential\":[[0.0,\"#0d0887\"],[0.1111111111111111,\"#46039f\"],[0.2222222222222222,\"#7201a8\"],[0.3333333333333333,\"#9c179e\"],[0.4444444444444444,\"#bd3786\"],[0.5555555555555556,\"#d8576b\"],[0.6666666666666666,\"#ed7953\"],[0.7777777777777778,\"#fb9f3a\"],[0.8888888888888888,\"#fdca26\"],[1.0,\"#f0f921\"]],\"sequentialminus\":[[0.0,\"#0d0887\"],[0.1111111111111111,\"#46039f\"],[0.2222222222222222,\"#7201a8\"],[0.3333333333333333,\"#9c179e\"],[0.4444444444444444,\"#bd3786\"],[0.5555555555555556,\"#d8576b\"],[0.6666666666666666,\"#ed7953\"],[0.7777777777777778,\"#fb9f3a\"],[0.8888888888888888,\"#fdca26\"],[1.0,\"#f0f921\"]],\"diverging\":[[0,\"#8e0152\"],[0.1,\"#c51b7d\"],[0.2,\"#de77ae\"],[0.3,\"#f1b6da\"],[0.4,\"#fde0ef\"],[0.5,\"#f7f7f7\"],[0.6,\"#e6f5d0\"],[0.7,\"#b8e186\"],[0.8,\"#7fbc41\"],[0.9,\"#4d9221\"],[1,\"#276419\"]]},\"xaxis\":{\"gridcolor\":\"white\",\"linecolor\":\"white\",\"ticks\":\"\",\"title\":{\"standoff\":15},\"zerolinecolor\":\"white\",\"automargin\":true,\"zerolinewidth\":2},\"yaxis\":{\"gridcolor\":\"white\",\"linecolor\":\"white\",\"ticks\":\"\",\"title\":{\"standoff\":15},\"zerolinecolor\":\"white\",\"automargin\":true,\"zerolinewidth\":2},\"scene\":{\"xaxis\":{\"backgroundcolor\":\"#E5ECF6\",\"gridcolor\":\"white\",\"linecolor\":\"white\",\"showbackground\":true,\"ticks\":\"\",\"zerolinecolor\":\"white\",\"gridwidth\":2},\"yaxis\":{\"backgroundcolor\":\"#E5ECF6\",\"gridcolor\":\"white\",\"linecolor\":\"white\",\"showbackground\":true,\"ticks\":\"\",\"zerolinecolor\":\"white\",\"gridwidth\":2},\"zaxis\":{\"backgroundcolor\":\"#E5ECF6\",\"gridcolor\":\"white\",\"linecolor\":\"white\",\"showbackground\":true,\"ticks\":\"\",\"zerolinecolor\":\"white\",\"gridwidth\":2}},\"shapedefaults\":{\"line\":{\"color\":\"#2a3f5f\"}},\"annotationdefaults\":{\"arrowcolor\":\"#2a3f5f\",\"arrowhead\":0,\"arrowwidth\":1},\"geo\":{\"bgcolor\":\"white\",\"landcolor\":\"#E5ECF6\",\"subunitcolor\":\"white\",\"showland\":true,\"showlakes\":true,\"lakecolor\":\"white\"},\"title\":{\"x\":0.05},\"mapbox\":{\"style\":\"light\"}}},\"showlegend\":false},                        {\"responsive\": true}                    ).then(function(){\n",
       "                            \n",
       "var gd = document.getElementById('8baa1c6d-a613-4db5-8847-9775e9e2a0e5');\n",
       "var x = new MutationObserver(function (mutations, observer) {{\n",
       "        var display = window.getComputedStyle(gd).display;\n",
       "        if (!display || display === 'none') {{\n",
       "            console.log([gd, 'removed!']);\n",
       "            Plotly.purge(gd);\n",
       "            observer.disconnect();\n",
       "        }}\n",
       "}});\n",
       "\n",
       "// Listen for the removal of the full notebook cells\n",
       "var notebookContainer = gd.closest('#notebook-container');\n",
       "if (notebookContainer) {{\n",
       "    x.observe(notebookContainer, {childList: true});\n",
       "}}\n",
       "\n",
       "// Listen for the clearing of the current output cell\n",
       "var outputEl = gd.closest('.output');\n",
       "if (outputEl) {{\n",
       "    x.observe(outputEl, {childList: true});\n",
       "}}\n",
       "\n",
       "                        })                };                });            </script>        </div>"
      ]
     },
     "metadata": {},
     "output_type": "display_data"
    }
   ],
   "source": [
    "plot_list = []\n",
    "\n",
    "dx = [10,23,9,0,-13,-24,-11]\n",
    "dy = [0,0,0,5,0,0,0]\n",
    "\n",
    "for i, seg in enumerate(mission_segment_list):\n",
    "    go_scatter = go.Scatter(mode = 'lines+markers',\n",
    "                            x = seg.dist,\n",
    "                            y = seg.alt,\n",
    "                            name = seg.name,\n",
    "                            line = dict(color='blue'),\n",
    "                            text = seg.name,\n",
    "                            hovertemplate = '<extra></extra>dist = %{x} km<br>'+'alt   = %{y}.0 m')\n",
    "    plot_list.append(go_scatter)\n",
    "    go_text = go.Scatter(mode = 'text',\n",
    "                     x = [0.5*(seg.dist[0]+seg.dist[1])+dx[i]],\n",
    "                     y = [0.5*(seg.alt[0]+seg.alt[1])+dy[i]],\n",
    "                     text=f'<b>{seg.name}</b>',\n",
    "                     hoverinfo='none')\n",
    "    plot_list.append(go_text)\n",
    "\n",
    "# Takeoff segment\n",
    "seg = mission_segment_list[0]\n",
    "go_text = go.Scatter(mode = 'text',\n",
    "                 x = [0.5*(seg.dist[0]+seg.dist[1])+15],\n",
    "                 y = [0.5*(seg.alt[0]+seg.alt[1])-15],\n",
    "                 text=f'{seg.vy} m/s<br>vertical climb<br>for {seg.dt} s',\n",
    "                 hoverinfo='none')\n",
    "plot_list.append(go_text)\n",
    "\n",
    "# Forward transition segment\n",
    "seg = mission_segment_list[1]\n",
    "go_text = go.Scatter(mode = 'text',\n",
    "                 x = [0.5*(seg.dist[0]+seg.dist[1]+150)],\n",
    "                 y = [0.5*(seg.alt[0]+seg.alt[1])],\n",
    "                 text=f'{seg.ax:.2f} m/s2<br>horizontal acceleration<br>for {seg.dt} s',\n",
    "                 hoverinfo='none')\n",
    "plot_list.append(go_text)\n",
    "\n",
    "# Climb\n",
    "seg = mission_segment_list[2]\n",
    "go_text = go.Scatter(mode = 'text',\n",
    "                 x = [0.5*(seg.dist[0]+seg.dist[1])+35],\n",
    "                 y = [0.5*(seg.alt[0]+seg.alt[1])],\n",
    "                 text=f'Vy = {seg.vy:.2f} m/s<br>for {seg.dt} s',\n",
    "                 hoverinfo='none')\n",
    "plot_list.append(go_text)\n",
    "\n",
    "# Cruise segment\n",
    "seg = mission_segment_list[3]\n",
    "go_text = go.Scatter(mode = 'text',\n",
    "                 x = [0.5*(seg.dist[0]+seg.dist[1])],\n",
    "                 y = [0.5*(seg.alt[0]+seg.alt[1])-10],\n",
    "                 text=f'{seg.dist[1]-seg.dist[0]} km cruise at {seg.vx:.2f} km/h<br>for {seg.dt/3600} hours',\n",
    "                 hoverinfo='none')\n",
    "plot_list.append(go_text)\n",
    "\n",
    "# Descend\n",
    "seg = mission_segment_list[4]\n",
    "go_text = go.Scatter(mode = 'text',\n",
    "                 x = [0.5*(seg.dist[0]+seg.dist[1])-40],\n",
    "                 y = [0.5*(seg.alt[0]+seg.alt[1])],\n",
    "                 text=f'Vy = {seg.vy:.2f} m/s<br>for {seg.dt} s',\n",
    "                 hoverinfo='none')\n",
    "plot_list.append(go_text)\n",
    "\n",
    "# Backward transition segment\n",
    "seg = mission_segment_list[5]\n",
    "go_text = go.Scatter(mode = 'text',\n",
    "                 x = [0.5*(seg.dist[0]+seg.dist[1]-150)],\n",
    "                 y = [0.5*(seg.alt[0]+seg.alt[1])],\n",
    "                 text=f'{seg.ax:.2f} m/s2<br>horizontal acceleration<br>for {seg.dt} s',\n",
    "                 hoverinfo='none')\n",
    "plot_list.append(go_text)\n",
    "\n",
    "# Landing segment\n",
    "seg = mission_segment_list[6]\n",
    "go_text = go.Scatter(mode = 'text',\n",
    "                 x = [0.5*(seg.dist[0]+seg.dist[1])-20],\n",
    "                 y = [0.5*(seg.alt[0]+seg.alt[1])-15],\n",
    "                 text=f'{seg.vy:.2f} m/s<br>vertical descend<br>for {seg.dt} s',\n",
    "                 hoverinfo='none')\n",
    "plot_list.append(go_text)   \n",
    "\n",
    "# Summary\n",
    "duration = (mission_segment_list[-1].t2-mission_segment_list[0].t1).total_seconds()\n",
    "hours = duration//3600\n",
    "minutes = (duration % 3600)//60\n",
    "seconds = duration % 60\n",
    "go_text = go.Scatter(mode = 'text',\n",
    "                 x = [0.5*(mission_segment_list[3].dist[0]+mission_segment_list[3].dist[1])],\n",
    "                 y = [0.5*(mission_segment_list[3].alt[0]+mission_segment_list[3].alt[1])-80],\n",
    "                 text=f'<b>Mission Summary</b><br>Date: {mission_segment_list[0].t1:%b %d, %Y}<br>Duration: {hours}hour, {minutes} mins, {seconds} secs',\n",
    "                 hoverinfo='none')\n",
    "plot_list.append(go_text) \n",
    "\n",
    "layout = go.Layout(title=go.layout.Title(text=\"Simplified Mission Profile\",x=0.5),\n",
    "                   xaxis={'title':'Distance [km]','range':[-11,261]},\n",
    "                   yaxis={'title':'Altitude [m]','range':[-10,140]})\n",
    "\n",
    "fig = go.Figure(data=plot_list, layout=layout)\n",
    "fig.update_layout(showlegend=False)\n",
    "fig.show()"
   ]
  },
  {
   "cell_type": "markdown",
   "id": "7e29c2ff",
   "metadata": {},
   "source": [
    "## Prosperity I - Specifications and Performance Approximations"
   ]
  },
  {
   "cell_type": "markdown",
   "id": "c28ae875",
   "metadata": {},
   "source": [
    "### General\n",
    "\n",
    "The Prosperity I's specifications are listed below.<br>\n",
    "\n",
    "<b>Propulsion</b>: Fully electric Lift+Cruise<br>\n",
    "<b>Powertrain</b>: 10 lifting rotors + 3 propellers<br>\n",
    "<b>Wingspan</b>: 12.8 m<br>\n",
    "<b>Height</b>: 3.3 m<br><br>\n",
    "\n",
    "The Prosperity I's performance is listed below.<br>\n",
    "\n",
    "<b>Max range</b>: 241.402 km+<br>\n",
    "<b>Cruise speed</b>: 209.215 km/h+:<br>\n",
    "<b>Max payload</b>: 408.233 kg+<br>\n",
    "<b>Hover noise</b>: ~70 dBA<br><br>\n",
    "\n",
    "<b>source</b> = https://www.autoflight.com/en/products/"
   ]
  },
  {
   "cell_type": "markdown",
   "id": "36a0071e",
   "metadata": {},
   "source": [
    "### Power and Energy Requirement\n",
    "\n",
    "Based on the mission profile, the power and energy required can then be calculated.<br>\n",
    "\n",
    "The power required for the vertical take-off and landing segments are:\n",
    "\n",
    "\\begin{equation*}\n",
    "P_{VTOL} = \\frac{1}{\\eta_{mech}}\\Big(\\frac{W_{MTOW}v_{VTOL}}{2} + \\frac{fW_{MTOW}}{FM}\\Big)\\sqrt {\\frac{fW_{MTOW}}{2 \\rho S_{disk}}}\n",
    "\\tag{1}\n",
    "\\end{equation*}<br>\n",
    "\n",
    "where $\\eta_{mech}$ is the mechanical efficiency, $W_{MTOW}$ is MTOW weight, $v_{VTOL}$ is the VTOL speed, $f$ is the adjusment for downwash on fuselage, $FM$ is the figure of merit, $S_{disk}$ is the disk area, and $\\rho$ is the air density.\n",
    "\n",
    "The power required for the cruise segment (if $C_{L} <= C_{L_{max}})$:\n",
    "\n",
    "\\begin{equation*}\n",
    "P_{cruise} = \\frac{D_{cruise}v_{cruise}}{\\eta_{p}}\n",
    "\\tag{2a}\n",
    "\\end{equation*}<br>\n",
    "\n",
    "where $D_{cruise}$ is the total drag during cruise, $v_{cruise}$ is the cruise speed, and $\\eta_{p}$ is the propeller efficiency.\n",
    "\n",
    "Given that there is a fixed maximum $C_{L}$, there are configurations in which the wing could not produce sufficient lift to maintain cruise. In those cases, the vertical lift system (rotor) has to operate to compensate for the lift deficit. So, the following equation calculates the power required for the cruise segment when $C_{L} > C_{L_{max}}$:\n",
    "\n",
    "\\begin{equation*}\n",
    "P_{cruise} = \\frac{v_{cruise}}{\\eta_{p}\\eta_{mech}} \\Big(D + \\frac{L_{deficit}}{4eqS_{disk}} \\Big)\n",
    "\\tag{2b}\n",
    "\\end{equation*}<br>\n",
    "\n",
    "where $L_{deficit}$ is the difference between the lift generated by the wing and the weight of the aircraft.\n",
    "\n",
    "While the power required for the climb/descend (c/d) segment:\n",
    "\n",
    "\\begin{equation*}\n",
    "P_{c/d} = \\frac{v_{c/d}}{\\eta_{p} \\eta_{mech}} \\Big(D_{c/d} + \\frac{L_{deficit}}{4eqS_{disk}} + W_{MTOW} \\sin \\gamma \\Big)\n",
    "\\tag{3}\n",
    "\\end{equation*}<br>\n",
    "\n",
    "where $D_{c/d}$ is the total drag during climb/descend, $v_{c/d}$ is the climb/descend speed, $\\eta_{p}$ is the propeller efficiency, $\\eta_{mech}$ is the mechanical efficiency, and $\\gamma$ is the climb/descend angle.\n",
    "\n",
    "Energy required per segment is:\n",
    "\n",
    "\\begin{equation*}\n",
    "E_{segment} = P_{segment}t_{segment}\n",
    "\\tag{4}\n",
    "\\end{equation*}<br>\n",
    "\n",
    "where $P_{segment}$ is the power for each segment calculated in Eq (1)-(3) and $t_{segment}$ is the time for each segment.\n",
    "\n",
    "The battery is assumed to be at its end-of-life state, in which it can only hold 80% of its original capacity. The total battery mass is thus calculated as:\n",
    "\n",
    "\\begin{equation*}\n",
    "m_{total-battery} = \\frac{\\Sigma E_{segment}}{0.8\\eta_{battery}\\tilde{E}}\n",
    "\\tag{5}\n",
    "\\end{equation*}<br>\n",
    "\n",
    "where $\\tilde{E}$ is the battery energy density (Wh/kg). It is assumed that $\\eta_{battery} = 0.93$; which is the representative of the efficiency of Lithium-ion batteries.\n",
    "\n",
    "<b>source</b>: Hascaryo, R. W. and Merret, J. M., <em>Configuration-Independent Initial Sizing Method for UAM/eVTOL Vehicles</em>, AIAA Aviation 2020 Forum.\n"
   ]
  },
  {
   "cell_type": "code",
   "execution_count": 24,
   "id": "0e1669df",
   "metadata": {},
   "outputs": [],
   "source": [
    "def calc_P_vtol(mtow, v_vtol, S_disk, eta_mech, f, FM, rho):\n",
    "    \"\"\"\n",
    "    Calculate power required for VTOL (Watt)\n",
    "    \n",
    "    mtow: Maximum Take-Off Weight (kg)\n",
    "    v_vtol: vertical take-off and landing speed (m/s)\n",
    "    S_disk: disk area (m/s2)\n",
    "    eta_mech: mechanical efficiency\n",
    "    f: adjustment for downwash on fuselage\n",
    "    FM: figure of merit\n",
    "    rho: air density (kg/m3)\n",
    "    \"\"\"\n",
    "    g = 9.81 #m/s2\n",
    "    P_vtol = (1/eta_mech) * (0.5*mtow*g*v_vtol + f*mtow*g/FM) * np.sqrt((f*mtow*g)/(2*rho*S_disk))\n",
    "    return P_vtol\n",
    "\n",
    "def calc_P_cruise(D_cruise, v_cruise, eta_p):\n",
    "    \"\"\"\n",
    "    Calculate power required for cruise (Watt) when CL <= CL_max\n",
    "    \n",
    "    D_cruise: drag during cruise (N)\n",
    "    v_cruise: cruise speed (km/h)\n",
    "    eta_p: propeller efficiency\n",
    "    \"\"\"\n",
    "    # Convert to SI\n",
    "    v_cruise = v_cruise * 1000 / 3600 #m/s\n",
    "    \n",
    "    P_cruise = D_cruise*v_cruise/eta_p\n",
    "    \n",
    "    return P_cruise\n",
    "\n",
    "def calc_P_cruise_augmented(mtow, D_cruise, v_cruise, eta_mech, eta_p, rho, S_disk, CL):\n",
    "    \"\"\"\n",
    "    Calculate power required for cruise (Watt) when CL > CL_max\n",
    "    \n",
    "    D_cruise: drag during cruise (N)\n",
    "    v_cruise: cruise speed (km/h)\n",
    "    eta_p: propeller efficiency\n",
    "    \"\"\"\n",
    "    # Convert to SI\n",
    "    v_cruise = v_cruise * 1000 / 3600 #m/s\n",
    "    g = 9.81\n",
    "    q = 0.5 * rho * v_cruise**2\n",
    "    \n",
    "    # Difference between weight and lift produced by wing (CL = CL_max = 0.7)\n",
    "    L_deficit = (CL-0.7) * mtow * g\n",
    "    \n",
    "    P_cruise_aug = (v_cruise/(eta_p * eta_mech)) * (D + ((L_deficit)/(4*q*S_disk)))\n",
    "\n",
    "    return P_cruise_aug\n",
    "    \n",
    "def calc_P_c_d(D_c_d, v_c_d, eta_p):\n",
    "    \"\"\"\n",
    "    Calculate power required for climb/descend (Watt)\n",
    "    \n",
    "    D_c_d: drag during climb/descend (N)\n",
    "    v_c_d: speed during climb/descend (m/s)\n",
    "    eta_p: propeller efficiency\n",
    "    \"\"\"\n",
    "    P_c_d = D_c_d*v_c_d/eta_p\n",
    "    return P_c_d\n",
    "\n",
    "def calc_m_battery(E_segment, E_tilde, eta_battery=0.93):\n",
    "    \"\"\"\n",
    "    Calculate battery mass available for a specific segment\n",
    "    \n",
    "    E_segment: energy required for the segment (Wh)\n",
    "    E_tilde: battery energy density (Wh/kg)\n",
    "    eta_battery: battery efficiency (0.93 is for Li-ion battery)\n",
    "    \"\"\"\n",
    "    m_battery = E_segment / (0.8*eta_battery*E_tilde)\n",
    "    return m_battery\n",
    "\n",
    "def calc_total_m_battery(E_segment, E_tilde, eta_battery=0.93):\n",
    "    \"\"\"\n",
    "    E_segment_list: a list of energy required for each segment (Wh)\n",
    "    E_tilde: battery energy density (Wh/kg)\n",
    "    eta_battery: battery efficiency (0.93 is for Li-ion battery)\n",
    "    \"\"\"\n",
    "    W_battery = 0\n",
    "    for _, E_segment in enumerate(E_segment_list):\n",
    "        m_total_battery += calc_m_battery(E_segment, E_tilde, eta_battery)\n",
    "    \n",
    "    return m_total_battery"
   ]
  },
  {
   "cell_type": "markdown",
   "id": "1de0582d",
   "metadata": {},
   "source": [
    "### Cruise range equation for electric aircraft\n",
    "\n",
    "The electric energy consumption of the aircraft during cruise is: <br><br>\n",
    "\\begin{equation*}\n",
    "E_{cruise} = \\tilde{E}m_{battery-cruise} 0.8 \\eta_{battery} = W \\frac{D}{L} R\n",
    "\\tag{6}\n",
    "\\end{equation*}<br>\n",
    "where $\\tilde{E}$ is the battery energy density, $m_{battery-cruise}$ is the battery mass available for cruise, $\\eta_{battery}$ is the battery efficiency (0.93 for Li-ion), $W$ is the aircraft weight (mtow*g), $L$ is the lift force, $D$ is the drag force, and $R$ is the cruise range. Rewriting the equation for cruise range, it yields:<br><br>\n",
    "\\begin{equation*}\n",
    "R = 0.8 \\eta_{battery} \\tilde{E} \\frac{m_{battery-cruise}}{mtow} \\frac{1}{g} \\frac{L}{D}\n",
    "\\tag{7}\n",
    "\\end{equation*}<br>\n",
    "where $mtow$ is the maximum take-off weight of the aircraft and $g$ is the gravity acceleration.\n",
    "\n",
    "For reversed-engineering purpose, MTOW is set as a function:\n",
    "\\begin{equation*}\n",
    "mtow = 0.8 \\eta_{battery} \\tilde{E} \\frac{m_{battery-cruise}}{R} \\frac{1}{g} \\frac{L}{D}\n",
    "\\tag{7}\n",
    "\\end{equation*}<br>\n",
    "\n",
    "<b>source</b>: Raymer, D.P., <em>Aircraft Design: A Conceptual Approach,</em> 6th ed.; AIAA: Reston, VA. USA, 2018."
   ]
  },
  {
   "cell_type": "code",
   "execution_count": 16,
   "id": "6791d44e",
   "metadata": {},
   "outputs": [],
   "source": [
    "# For doing reversed engineering purpose: mtow is set as a function\n",
    "def calc_mtow(R, E_tilde, m_battery_cruise, L_by_D, eta_battery):\n",
    "    \"\"\"\n",
    "    R: cruise range (km)\n",
    "    E_tilde: battery energy density (Wh/kg)\n",
    "    m_battery_cruise: battery mass availabe for cruise segment (kg)\n",
    "    L_by_D: Lift-to-drag ratio\n",
    "    eta_battery: battery efficiency\n",
    "    \"\"\"\n",
    "    # Convert to SI\n",
    "    R = R * 1000 # m\n",
    "    E_tilde = E_tilde * 3600 # Ws/kg\n",
    "    g = 9.81 # m/s^2\n",
    "    \n",
    "    mtow = 0.8 * eta_battery * E_tilde * m_battery_cruise * L_by_D / g / R\n",
    "    \n",
    "    return mtow"
   ]
  },
  {
   "cell_type": "markdown",
   "id": "27ca5f2a",
   "metadata": {},
   "source": [
    "### Aerodynamics\n",
    "A drag force is calculated using the following equations.<br><br>\n",
    "\n",
    "\\begin{equation*}\n",
    "D = \\frac{1}{2} \\rho v^2 S C_{D}\n",
    "\\tag{8}\n",
    "\\end{equation*}<br>\n",
    "\n",
    "\\begin{equation*}\n",
    "C_{D} = C_{D_{p}} + C_{D_{i}}\n",
    "\\tag{9}\n",
    "\\end{equation*}<br>\n",
    "\n",
    "where $\\rho$ is the air density, $v$ is the aircraft velocity, $S$ is the wing area, $C_{D_{p}}$ is the parasite drag, and $C_{D_{i}}$ is the induced drag.<br>\n",
    "\n",
    "The induced drag coefficient value is expressed as the following equation, assuming an ideal elliptical lift distribution.<br><br>\n",
    "\n",
    "\\begin{equation*}\n",
    "C_{D_{i}} = \\frac{C_{L}^2}{\\pi e AR}\n",
    "\\tag{10}\n",
    "\\end{equation*}<br>\n",
    "\n",
    "\\begin{equation*}\n",
    "AR = \\frac{b^2}{S}\n",
    "\\tag{11}\n",
    "\\end{equation*}<br>\n",
    "\n",
    "where $C_{L}$ is the lift coefficient, $e$ is the Oswald span efficiency coefficient, $AR$ is the aspect ratio, and $b$ is the wing span.<br>\n",
    "\n",
    "When cruising, the lift coefficient is as follows.<br><br>\n",
    "\n",
    "\\begin{equation*}\n",
    "C_{L} = \\frac{W}{\\frac{1}{2} \\rho v^2 S}\n",
    "\\tag{12}\n",
    "\\end{equation*}<br>\n",
    "\n",
    "\\begin{equation*}\n",
    "e = 1.78(1-0.045AR^{0.68})-0.64\n",
    "\\tag{13}\n",
    "\\end{equation*}<br>\n",
    "\n",
    "There should be a maximum lift coefficient for a given configuration. For Cessna 172 GA aircraft, $C_{L_{max}} = 0.6$ was set for cruise and $C_{L_{max}} = 0.7$ for climb. However, in order to accommodate for borderline plausible cases, these limits were not strict; instead, hard limits were set at $C_{L_{max}} = 0.7$ for cruise and $C_{L_{max}} = 0.75$ for climb.\n",
    "\n",
    "Substituting $C_{L}$ in Eq(12) into Eq(10) yields:<br><br>\n",
    "\n",
    "\\begin{equation*}\n",
    "C_{D_{i}} = \\frac{1}{\\pi e AR}\\big(\\frac{W}{\\frac{1}{2}\\rho v^2S}\\big)^2\n",
    "\\tag{14}\n",
    "\\end{equation*}<br>\n",
    "\n",
    "Substituting $C_{D_{i}}$ in the Eq(14) into Eq(9):<br><br>\n",
    "\n",
    "\\begin{equation*}\n",
    "C_{D} = C_{D_{p}} + \\frac{1}{\\pi e AR}\\big(\\frac{W}{\\frac{1}{2}\\rho v^2S}\\big)^2\n",
    "\\tag{15}\n",
    "\\end{equation*}<br>\n",
    "\n",
    "Substituting $C_{D}$ in Eq(15) into Eq(8):<br><br>\n",
    "\n",
    "\\begin{equation*}\n",
    "D = \\frac{1}{2}\\rho v^2S \\big( C_{D_{p}} + \\frac{1}{\\pi e AR}\\big(\\frac{W}{\\frac{1}{2}\\rho v^2S}\\big)^2 \\big)\n",
    "\\tag{16}\n",
    "\\end{equation*}<br>\n",
    "\n",
    "In order to calculate the total drag, it is necessary to calculate the parasite drag. The component build-up method is used to calculate the parasite drag. The parasite drag at subsonic speed is expressed by the following equation.<br><br>\n",
    "\n",
    "\\begin{equation*}\n",
    "C_{D_{p}} = \\frac{\\Sigma\\big(C_{f}FFQS_{wet}\\big)}{S_{ref}} + C_{D_{misc}} + C_{D_{L\\&P}} \n",
    "\\tag{17}\n",
    "\\end{equation*}<br>\n",
    "\n",
    "where $C_{f}$ is the surface friction coefficient, $FF$ is the form factor, $Q$ is the interference coefficient, $S_{wet}$ is the wetted area, $S_{ref}$ is the reference area, $C_{D_{misc}}$ is the miscellaneous drag, and $C_{D_{L\\&P}}$ is the leakages and protuberances drag coefficient.<br>\n",
    "\n",
    "The surface friction coefficient of the plate is expressed by the following equation for laminar and turbulent flows.<br>\n",
    "\n",
    "Laminar:\n",
    "\\begin{equation*}\n",
    "C_{f} = \\frac{1.328}{\\sqrt{R}}\n",
    "\\tag{18}\n",
    "\\end{equation*}<br>\n",
    "\n",
    "Turbulent:\n",
    "\\begin{equation*}\n",
    "C_{f} = \\frac{0.455}{(log_{10}R)^{2.58}(1+0.144M^2)^{0.65}}\n",
    "\\tag{19}\n",
    "\\end{equation*}<br>\n",
    "\n",
    "where $R$ is the Reynolds number and $M$ is the Mach number.\n",
    "\n",
    "<b>source</b>: Raymer, D.P., <em>Aircraft Design: A Conceptual Approach,</em> 6th ed.; AIAA: Reston, VA. USA, 2018."
   ]
  },
  {
   "cell_type": "code",
   "execution_count": 17,
   "id": "17413d4b",
   "metadata": {},
   "outputs": [],
   "source": [
    "# Aerodynamic models\n",
    "\n",
    "def calc_CL_cruise(mtow, v_cruise, rho, S):\n",
    "    \"\"\"\n",
    "    Calculate CL at cruise (assuming lift = weight)\n",
    "    \n",
    "    mtow: maximum take-off weight (kg)\n",
    "    v_cruise: cruise speed (km/h)\n",
    "    rho: air density\n",
    "    S: wing reference area (m2)\n",
    "    \"\"\"\n",
    "    # Convert into SI\n",
    "    v_cruise = v_cruise * 1000 /3600 #m/s\n",
    "    g = 9.81 #m/s2\n",
    "    CL_cruise = (mtow*g)/(0.5*rho*v_cruise*v_cruise*S)\n",
    "    \n",
    "    return CL_cruise\n",
    "\n",
    "def calc_CD_induced(CL, AR):\n",
    "    \"\"\"\n",
    "    Calculate CD due to induced drag\n",
    "    \n",
    "    CL: lift coefficient\n",
    "    AR: wing aspect ratio\n",
    "    \"\"\"\n",
    "    e = 1.78 * (1 - 0.045 * AR**0.68) - 0.64 # oswald coeff\n",
    "    CD_i = CL*CL/(np.pi * e * AR)\n",
    "    \n",
    "    return CD_i\n",
    "\n",
    "def calc_CD_parasite(mtow, v_cruise, S, rho=1.17, K=0.15):\n",
    "    \"\"\" \n",
    "    Calculate CD due to parasitic drag\n",
    "    \n",
    "    mtow: maximum take-off weight\n",
    "    v_cruise: cruise speed km/h\n",
    "    S: wing area\n",
    "    \n",
    "    ref: teTra's World eVTOL data\n",
    "    https://docs.google.com/spreadsheets/d/1Xp6tqbU8aNPZ0nnScBRngmlGMr2DButvgyRbdxGNzvs/edit#gid=651362802\n",
    "    \"\"\"\n",
    "    # Convert into SI\n",
    "    g = 9.81 #m/s2\n",
    "    v_cruise = v_cruise * 1000 / 3600\n",
    "    \n",
    "    CD_p = K * (2*mtow*g/S/rho)**2 / v_cruise**4\n",
    "    \n",
    "    return CD_p"
   ]
  },
  {
   "cell_type": "code",
   "execution_count": 18,
   "id": "a1f70163",
   "metadata": {},
   "outputs": [
    {
     "name": "stdout",
     "output_type": "stream",
     "text": [
      "Lift coeff: 0.6801332380165901\n",
      "Total drag coeff: 0.0910696084144719\n"
     ]
    }
   ],
   "source": [
    "# Example to calculate aero performance\n",
    "mtow = 1500 #kg\n",
    "rho = 1.17 # kg/m3 air density\n",
    "v_cruise = 158 # km/h\n",
    "b = 12.8 # wing span (m)\n",
    "c = 1.5 # wing chord (m) (wing_chord < 1.5 is not possible for mtow=1500kg)\n",
    "S = b*c\n",
    "AR = b*b/S\n",
    "\n",
    "CL = calc_CL_cruise(mtow, v_cruise, rho, S)\n",
    "CD_i = calc_CD_induced(CL, AR)\n",
    "CD_p = calc_CD_parasite(mtow, v_cruise, S, rho, K=0.15)\n",
    "CD = CD_i + CD_p\n",
    "\n",
    "print(f'Lift coeff: {CL}')\n",
    "print(f'Total drag coeff: {CD}')"
   ]
  },
  {
   "cell_type": "markdown",
   "id": "9a250fac",
   "metadata": {},
   "source": [
    "### Iterative Sizing Equation"
   ]
  },
  {
   "cell_type": "markdown",
   "id": "494e68bf",
   "metadata": {},
   "source": [
    "This following iterative process is similar to the methods developed for fuel-burning aircraft, however not exactly the same. It is because the methods for fuel-burning aircraft assumes that the aircraft gets lighter as the mission segment progresses, which is not the case for electric aircraft (the weight stays the same throughout the flight). The concept of <b>battery mass fraction</b> is introduced here.\n",
    "\n",
    "Battery Mass Fraction (BMF) is the ratio of battery mass to all-up aircraft mass. The BMF values calculated for the various mission segments are used in an iterative process described in Raymer's book in which the fraction of total aircraft mass availabe for batteries is compared to the battery mass fraction required to do the mission. The BMF for a segment is defined as:\n",
    "\n",
    "\\begin{equation*}\n",
    "BMF_{segment} = \\frac{m_{battery-segment}}{mtow} = \\frac{1}{mtow}\\frac{P_{segment}t_{segment}}{0.8\\eta_{battery}\\tilde{E}}\n",
    "\\tag{20}\n",
    "\\end{equation*}<br>\n",
    "\n",
    "where $m_{battery-segment}$ is the required battery mass for that segment (Watt), $P_{segment}$ is the the power required for that segment, $t_{segment}$ is the segment run-time (hour), $\\eta_{battery}$ is the battery efficiency (0.93 for Li-ion), $\\tilde{E}$ is the battery energy density (Wh/kg), and $mtow$ is in kg.\n",
    "\n",
    "The available BMF is thus:<br>\n",
    "\n",
    "\\begin{equation*}\n",
    "BMF_{available} = \\frac{mtow - m_{empty} - m_{payload}}{mtow}\n",
    "\\tag{21}\n",
    "\\end{equation*}<br>\n",
    "\n",
    "Solving for <b>mtow</b> yields the following sizing equation:<br>\n",
    "\\begin{equation*}\n",
    "mtow = \\frac{m_{payload}}{1- BMF - \\frac{m_{empty}}{mtow}}\n",
    "\\tag{21}\n",
    "\\end{equation*}<br>\n"
   ]
  },
  {
   "cell_type": "code",
   "execution_count": 76,
   "id": "d59f8444",
   "metadata": {},
   "outputs": [],
   "source": [
    "def BMF_segment(mtow, P_segment, t_segment, E_tilde, eta_battery=0.93):\n",
    "    \"\"\"\n",
    "    Calculate BMF for a segment\n",
    "    \n",
    "    mtow: max takeoff weight (kg)\n",
    "    P_segment: required power for a segment (Watt)\n",
    "    t_segment: run-time for a segment (hour)\n",
    "    E_tilde: battery energy density (Wh/kg)\n",
    "    eta_battery: battery efficiency (0.93 for Li-ion)\n",
    "    \"\"\"\n",
    "    BMF = (P_segment * t_segment)/(0.8 * eta_battery * E_tilde * mtow)\n",
    "    \n",
    "    return BMF"
   ]
  },
  {
   "cell_type": "code",
   "execution_count": 66,
   "id": "adc3cb74",
   "metadata": {},
   "outputs": [
    {
     "name": "stdout",
     "output_type": "stream",
     "text": [
      "--------------------------------------\n",
      "| mtow_g | mtow_calc | error (%) |\n",
      "--------------------------------------\n",
      "| 77350.00 | 3953198.73 |  98.04   |\n",
      "--------------------------------------\n",
      "| mtow_g | mtow_calc | error (%) |\n",
      "--------------------------------------\n",
      "| 3953198.73 | 513672.99 |  669.59   |\n",
      "--------------------------------------\n",
      "| mtow_g | mtow_calc | error (%) |\n",
      "--------------------------------------\n",
      "| 513672.99 | 894422.68 |  42.57   |\n",
      "--------------------------------------\n",
      "| mtow_g | mtow_calc | error (%) |\n",
      "--------------------------------------\n",
      "| 894422.68 | 738884.84 |  21.05   |\n",
      "--------------------------------------\n",
      "| mtow_g | mtow_calc | error (%) |\n",
      "--------------------------------------\n",
      "| 738884.84 | 785420.28 |  5.92   |\n",
      "--------------------------------------\n",
      "| mtow_g | mtow_calc | error (%) |\n",
      "--------------------------------------\n",
      "| 785420.28 | 769858.13 |  2.02   |\n",
      "--------------------------------------\n",
      "| mtow_g | mtow_calc | error (%) |\n",
      "--------------------------------------\n",
      "| 769858.13 | 774882.68 |  0.65   |\n",
      "--------------------------------------\n",
      "| mtow_g | mtow_calc | error (%) |\n",
      "--------------------------------------\n",
      "| 774882.68 | 773241.54 |  0.21   |\n",
      "--------------------------------------\n",
      "| mtow_g | mtow_calc | error (%) |\n",
      "--------------------------------------\n",
      "| 773241.54 | 773775.57 |  0.07   |\n",
      "--------------------------------------\n",
      "| mtow_g | mtow_calc | error (%) |\n",
      "--------------------------------------\n",
      "| 773775.57 | 773601.58 |  0.02   |\n",
      "--------------------------------------\n",
      "| mtow_g | mtow_calc | error (%) |\n",
      "--------------------------------------\n",
      "| 773601.58 | 773658.25 |  0.01   |\n",
      "\n",
      "\n",
      "mtow = 773658.2457724328\n"
     ]
    }
   ],
   "source": [
    "def calc_iterative_mtow(mtow_guess, m_payload, m_fuel_by_mtow):\n",
    "    error = 100 #%\n",
    "    n_iter = 1\n",
    "    max_iter = 100\n",
    "    while(error > 0.01 and n_iter < max_iter):\n",
    "        m_empty_by_mtow = 0.97 * mtow_guess**(-0.06) \n",
    "        mtow_calc = (m_payload)/(1 - m_fuel_by_mtow - m_empty_by_mtow)\n",
    "        error = abs(mtow_guess - mtow_calc)/mtow_calc * 100 #%\n",
    "        print('--------------------------------------')\n",
    "        print('| mtow_g | mtow_calc | error (%) |')\n",
    "        print('--------------------------------------')\n",
    "        print(f'| {mtow_guess:.2f} | {mtow_calc:.2f} |  {error:.2f}   |')\n",
    "        mtow_guess = mtow_calc\n",
    "        n_iter += 1\n",
    "    return mtow_calc\n",
    "\n",
    "m_payload = 2180+59102\n",
    "mtow_calc = calc_iterative_mtow(77350, m_payload, 0.490797)\n",
    "print('\\n')\n",
    "print(f'mtow = {mtow_calc}')"
   ]
  },
  {
   "cell_type": "code",
   "execution_count": 65,
   "id": "75133e00",
   "metadata": {},
   "outputs": [],
   "source": [
    "def calc_iterative_mtow(mtow_guess, m_payload, BMF):\n",
    "    error = 100 #%\n",
    "    n_iter = 1\n",
    "    max_iter = 100\n",
    "    while(error > 0.01 and n_iter < max_iter):\n",
    "        m_empty_by_mtow = 0.97 * mtow_guess**(-0.06) \n",
    "        mtow_calc = (m_payload)/(1 - m_fuel_by_mtow - m_empty_by_mtow)\n",
    "        error = abs(mtow_guess - mtow_calc)/mtow_calc * 100 #%\n",
    "        print('--------------------------------------')\n",
    "        print('| mtow_g | mtow_calc | error (%) |')\n",
    "        print('--------------------------------------')\n",
    "        print(f'| {mtow_guess:.2f} | {mtow_calc:.2f} |  {error:.2f}   |')\n",
    "        mtow_guess = mtow_calc\n",
    "        n_iter += 1\n",
    "    return mtow_calc"
   ]
  },
  {
   "cell_type": "markdown",
   "id": "b4d4c56c",
   "metadata": {},
   "source": [
    "### Trade Study"
   ]
  },
  {
   "cell_type": "markdown",
   "id": "3f8b2885",
   "metadata": {},
   "source": [
    "The following trade study is conducted based on the Autoflight - Prosperity I's mission profile and specifications. The following trade study is done:\n",
    "1. MTOW vs Battery Energy Density (with different cruise ranges)\n",
    "2. MTOW vs Cruise Range (with different battery energy densities)\n",
    "3. MTOW vs Wing Area (with different battery energy densities)\n",
    "4. MTOW vs Disk Area (with different battery energy densities)"
   ]
  },
  {
   "cell_type": "markdown",
   "id": "2b1bc12c",
   "metadata": {},
   "source": [
    "#### 1. MTOW vs Battery Energy Density (with different cruise ranges)"
   ]
  },
  {
   "cell_type": "code",
   "execution_count": 75,
   "id": "44463b8f",
   "metadata": {},
   "outputs": [
    {
     "name": "stdout",
     "output_type": "stream",
     "text": [
      "0.9249812037025626\n"
     ]
    },
    {
     "data": {
      "text/plain": [
       "2914.2857142857147"
      ]
     },
     "execution_count": 75,
     "metadata": {},
     "output_type": "execute_result"
    }
   ],
   "source": [
    "# Cruise range (km)\n",
    "range_list = [100, 150, 200, 250]\n",
    "\n",
    "# Battery Energy Density (Wh/kg)\n",
    "battery_list = [200, 220, 240, 260, 280, 300, 320]\n",
    "\n",
    "# Assumptions\n",
    "eta_battery = 0.93 # Li-ion is used\n",
    "eta_p = 0.7 # propeller's efficiency, In Roskam's book, general aviation = 0.8, homebuilt aircraft = 0.7\n",
    "rho = 1.17 # air density (kg/m2)\n",
    "\n",
    "# Battery, range, cruise\n",
    "E_tilde = range_list[0]\n",
    "R = range_list[3]\n",
    "v_cruise = 158 #km/h\n",
    "\n",
    "# Wing (autoflight prosperity I)\n",
    "wing_span = 12.8\n",
    "wing_chord = 1.5\n",
    "\n",
    "S = wing_span * wing_chord\n",
    "AR = wing_span**2 / S\n",
    "\n",
    "# --- iterative sizing procedure --- #\n",
    "mtow = 2040 # initial guess\n",
    "\n",
    "# Aerodynamics\n",
    "CL = calc_CL_cruise(mtow, v_cruise, rho, S)\n",
    "CD_i = calc_CD_induced(CL, AR)\n",
    "CD_p = calc_CD_parasite(mtow, v_cruise, S, rho, K=0.15)\n",
    "CD = CD_i + CD_p\n",
    "L_by_D = CL/CD\n",
    "\n",
    "D_cruise = CD * 0.5 * rho * (v_cruise*1000/3600)**2 * S\n",
    "\n",
    "P_cruise_segment = calc_P_cruise(D_cruise, v_cruise, eta_p, CL)\n",
    "\n",
    "E_cruise_segment = P_cruise_segment * (R/v_cruise)\n",
    "\n",
    "m_battery_cruise = calc_m_battery(E_cruise_segment, E_tilde, eta_battery)\n",
    "\n",
    "mtow = calc_mtow(R, E_tilde, m_battery_cruise, L_by_D, eta_battery)\n",
    "\n",
    "mtow"
   ]
  },
  {
   "cell_type": "markdown",
   "id": "d7ecdadf",
   "metadata": {},
   "source": [
    "#### 2. MTOW vs Cruise Range (with different battery energy densities)"
   ]
  },
  {
   "cell_type": "code",
   "execution_count": null,
   "id": "d882cfe8",
   "metadata": {},
   "outputs": [],
   "source": []
  },
  {
   "cell_type": "markdown",
   "id": "646f7881",
   "metadata": {},
   "source": [
    "#### 3. MTOW vs Wing Area (with different battery energy densities)"
   ]
  },
  {
   "cell_type": "code",
   "execution_count": null,
   "id": "294cae1f",
   "metadata": {},
   "outputs": [],
   "source": []
  },
  {
   "cell_type": "markdown",
   "id": "d76ebf25",
   "metadata": {},
   "source": [
    "#### 4. MTOW vs Disk Area (with different battery energy densities)"
   ]
  },
  {
   "cell_type": "code",
   "execution_count": null,
   "id": "3ba14ded",
   "metadata": {},
   "outputs": [],
   "source": []
  }
 ],
 "metadata": {
  "kernelspec": {
   "display_name": "Python 3 (ipykernel)",
   "language": "python",
   "name": "python3"
  },
  "language_info": {
   "codemirror_mode": {
    "name": "ipython",
    "version": 3
   },
   "file_extension": ".py",
   "mimetype": "text/x-python",
   "name": "python",
   "nbconvert_exporter": "python",
   "pygments_lexer": "ipython3",
   "version": "3.9.0"
  }
 },
 "nbformat": 4,
 "nbformat_minor": 5
}
